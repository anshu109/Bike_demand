{
 "cells": [
  {
   "cell_type": "code",
   "execution_count": 1,
   "metadata": {
    "colab": {
     "base_uri": "https://localhost:8080/"
    },
    "id": "1NCU2i7Uh499",
    "outputId": "463270ae-e59f-44aa-f18d-914e33867b5a"
   },
   "outputs": [
    {
     "name": "stdout",
     "output_type": "stream",
     "text": [
      "Requirement already satisfied: category_encoders in /Users/musubimanagement/opt/anaconda3/lib/python3.8/site-packages (2.3.0)\n",
      "Requirement already satisfied: statsmodels>=0.9.0 in /Users/musubimanagement/opt/anaconda3/lib/python3.8/site-packages (from category_encoders) (0.12.2)\n",
      "Requirement already satisfied: scipy>=1.0.0 in /Users/musubimanagement/opt/anaconda3/lib/python3.8/site-packages (from category_encoders) (1.6.2)\n",
      "Requirement already satisfied: scikit-learn>=0.20.0 in /Users/musubimanagement/opt/anaconda3/lib/python3.8/site-packages (from category_encoders) (0.24.1)\n",
      "Requirement already satisfied: numpy>=1.14.0 in /Users/musubimanagement/opt/anaconda3/lib/python3.8/site-packages (from category_encoders) (1.20.1)\n",
      "Requirement already satisfied: patsy>=0.5.1 in /Users/musubimanagement/opt/anaconda3/lib/python3.8/site-packages (from category_encoders) (0.5.1)\n",
      "Requirement already satisfied: pandas>=0.21.1 in /Users/musubimanagement/opt/anaconda3/lib/python3.8/site-packages (from category_encoders) (1.2.4)\n",
      "Requirement already satisfied: python-dateutil>=2.7.3 in /Users/musubimanagement/opt/anaconda3/lib/python3.8/site-packages (from pandas>=0.21.1->category_encoders) (2.8.1)\n",
      "Requirement already satisfied: pytz>=2017.3 in /Users/musubimanagement/opt/anaconda3/lib/python3.8/site-packages (from pandas>=0.21.1->category_encoders) (2021.1)\n",
      "Requirement already satisfied: six in /Users/musubimanagement/opt/anaconda3/lib/python3.8/site-packages (from patsy>=0.5.1->category_encoders) (1.15.0)\n",
      "Requirement already satisfied: threadpoolctl>=2.0.0 in /Users/musubimanagement/opt/anaconda3/lib/python3.8/site-packages (from scikit-learn>=0.20.0->category_encoders) (2.1.0)\n",
      "Requirement already satisfied: joblib>=0.11 in /Users/musubimanagement/opt/anaconda3/lib/python3.8/site-packages (from scikit-learn>=0.20.0->category_encoders) (1.0.1)\n",
      "Note: you may need to restart the kernel to use updated packages.\n"
     ]
    }
   ],
   "source": [
    "pip install category_encoders"
   ]
  },
  {
   "cell_type": "markdown",
   "metadata": {
    "id": "x_BkOtqBIKQz"
   },
   "source": [
    "# Data Science Challenge"
   ]
  },
  {
   "cell_type": "code",
   "execution_count": 2,
   "metadata": {
    "id": "U_VthdACIKQ6"
   },
   "outputs": [],
   "source": [
    "# If additional packages are needed that are not installed by default, uncomment the last two lines of this \n",
    "# cell and replace <package list> with a list of additional packages.\n",
    "# This will ensure the notebook has all the dependencies and works everywhere\n",
    "\n",
    "#import sys\n",
    "#!{sys.executable} -m pip install <package list>"
   ]
  },
  {
   "cell_type": "code",
   "execution_count": 1,
   "metadata": {
    "id": "VzGFUCCVIKRL"
   },
   "outputs": [],
   "source": [
    "#Libraries\n",
    "import pandas as pd\n",
    "pd.set_option(\"display.max_columns\", 101)"
   ]
  },
  {
   "cell_type": "code",
   "execution_count": 2,
   "metadata": {
    "id": "00X6gtthP89B"
   },
   "outputs": [],
   "source": [
    "import numpy as np"
   ]
  },
  {
   "cell_type": "markdown",
   "metadata": {
    "id": "TZ23KNY8IKRT"
   },
   "source": [
    "## Data Description"
   ]
  },
  {
   "cell_type": "markdown",
   "metadata": {
    "id": "jWSkqquEIKRW"
   },
   "source": [
    "Column | Description\n",
    ":---|:---\n",
    "`id` | Record index\n",
    "`timestamp` | Datetime (YYYY:MM:DD HH AM/PM)\n",
    "`season` | Season (spring, summer, fall, winter)\n",
    "`holiday` | Whether day is a holiday or not (Yes or No)\n",
    "`workingday` | Whether day is a working day or not (Yes or No)\n",
    "`weather`| Weather condition (Clear or partly cloudy, Mist, Light snow or rain, heavy rain/ice pellets/ snow + fog \n",
    "`temp`| Average temperature recorded for the hour ( in degree Celsius)\n",
    "`temp_feel`| Average feeling temperature recorded for the hour ( in degree Celsius)\n",
    "`hum`| Average humidity recorded for the hour (in %)\n",
    "`windspeed`| Average wind speed recorded for the hour (in miles/hour)\n",
    "`demand`| Hourly count of bikes rented"
   ]
  },
  {
   "cell_type": "markdown",
   "metadata": {
    "id": "BWQqx7cSIKRX"
   },
   "source": [
    "## Data Wrangling & Visualization"
   ]
  },
  {
   "cell_type": "code",
   "execution_count": 3,
   "metadata": {
    "id": "SsjL7tf7IKRc"
   },
   "outputs": [],
   "source": [
    "# The dataset is already loaded below\n",
    "data = pd.read_csv(\"train.csv\")"
   ]
  },
  {
   "cell_type": "code",
   "execution_count": 4,
   "metadata": {
    "colab": {
     "base_uri": "https://localhost:8080/",
     "height": 204
    },
    "id": "kzuHtZEkIKRh",
    "outputId": "e20f387b-94e1-404f-dae2-30139bd0d30c"
   },
   "outputs": [
    {
     "data": {
      "text/html": [
       "<div>\n",
       "<style scoped>\n",
       "    .dataframe tbody tr th:only-of-type {\n",
       "        vertical-align: middle;\n",
       "    }\n",
       "\n",
       "    .dataframe tbody tr th {\n",
       "        vertical-align: top;\n",
       "    }\n",
       "\n",
       "    .dataframe thead th {\n",
       "        text-align: right;\n",
       "    }\n",
       "</style>\n",
       "<table border=\"1\" class=\"dataframe\">\n",
       "  <thead>\n",
       "    <tr style=\"text-align: right;\">\n",
       "      <th></th>\n",
       "      <th>id</th>\n",
       "      <th>timestamp</th>\n",
       "      <th>season</th>\n",
       "      <th>holiday</th>\n",
       "      <th>workingday</th>\n",
       "      <th>weather</th>\n",
       "      <th>temp</th>\n",
       "      <th>temp_feel</th>\n",
       "      <th>humidity</th>\n",
       "      <th>windspeed</th>\n",
       "      <th>demand</th>\n",
       "    </tr>\n",
       "  </thead>\n",
       "  <tbody>\n",
       "    <tr>\n",
       "      <th>0</th>\n",
       "      <td>1</td>\n",
       "      <td>2017-01-01 00:00:00</td>\n",
       "      <td>spring</td>\n",
       "      <td>No</td>\n",
       "      <td>No</td>\n",
       "      <td>Clear or partly cloudy</td>\n",
       "      <td>9.84</td>\n",
       "      <td>14.395</td>\n",
       "      <td>81.0</td>\n",
       "      <td>0.0</td>\n",
       "      <td>2.772589</td>\n",
       "    </tr>\n",
       "    <tr>\n",
       "      <th>1</th>\n",
       "      <td>2</td>\n",
       "      <td>2017-01-01 01:00:00</td>\n",
       "      <td>spring</td>\n",
       "      <td>No</td>\n",
       "      <td>No</td>\n",
       "      <td>Clear or partly cloudy</td>\n",
       "      <td>9.02</td>\n",
       "      <td>13.635</td>\n",
       "      <td>80.0</td>\n",
       "      <td>0.0</td>\n",
       "      <td>3.688879</td>\n",
       "    </tr>\n",
       "    <tr>\n",
       "      <th>2</th>\n",
       "      <td>3</td>\n",
       "      <td>2017-01-01 02:00:00</td>\n",
       "      <td>spring</td>\n",
       "      <td>No</td>\n",
       "      <td>No</td>\n",
       "      <td>Clear or partly cloudy</td>\n",
       "      <td>9.02</td>\n",
       "      <td>13.635</td>\n",
       "      <td>80.0</td>\n",
       "      <td>0.0</td>\n",
       "      <td>3.465736</td>\n",
       "    </tr>\n",
       "    <tr>\n",
       "      <th>3</th>\n",
       "      <td>4</td>\n",
       "      <td>2017-01-01 03:00:00</td>\n",
       "      <td>spring</td>\n",
       "      <td>No</td>\n",
       "      <td>No</td>\n",
       "      <td>Clear or partly cloudy</td>\n",
       "      <td>9.84</td>\n",
       "      <td>14.395</td>\n",
       "      <td>75.0</td>\n",
       "      <td>0.0</td>\n",
       "      <td>2.564949</td>\n",
       "    </tr>\n",
       "    <tr>\n",
       "      <th>4</th>\n",
       "      <td>5</td>\n",
       "      <td>2017-01-01 04:00:00</td>\n",
       "      <td>spring</td>\n",
       "      <td>No</td>\n",
       "      <td>No</td>\n",
       "      <td>Clear or partly cloudy</td>\n",
       "      <td>9.84</td>\n",
       "      <td>14.395</td>\n",
       "      <td>75.0</td>\n",
       "      <td>0.0</td>\n",
       "      <td>0.000000</td>\n",
       "    </tr>\n",
       "  </tbody>\n",
       "</table>\n",
       "</div>"
      ],
      "text/plain": [
       "   id            timestamp  season holiday workingday                 weather  \\\n",
       "0   1  2017-01-01 00:00:00  spring      No         No  Clear or partly cloudy   \n",
       "1   2  2017-01-01 01:00:00  spring      No         No  Clear or partly cloudy   \n",
       "2   3  2017-01-01 02:00:00  spring      No         No  Clear or partly cloudy   \n",
       "3   4  2017-01-01 03:00:00  spring      No         No  Clear or partly cloudy   \n",
       "4   5  2017-01-01 04:00:00  spring      No         No  Clear or partly cloudy   \n",
       "\n",
       "   temp  temp_feel  humidity  windspeed    demand  \n",
       "0  9.84     14.395      81.0        0.0  2.772589  \n",
       "1  9.02     13.635      80.0        0.0  3.688879  \n",
       "2  9.02     13.635      80.0        0.0  3.465736  \n",
       "3  9.84     14.395      75.0        0.0  2.564949  \n",
       "4  9.84     14.395      75.0        0.0  0.000000  "
      ]
     },
     "execution_count": 4,
     "metadata": {},
     "output_type": "execute_result"
    }
   ],
   "source": [
    "data.head()"
   ]
  },
  {
   "cell_type": "code",
   "execution_count": 5,
   "metadata": {
    "colab": {
     "base_uri": "https://localhost:8080/",
     "height": 204
    },
    "id": "DiA9wz7LP89G",
    "outputId": "ec7aaa87-5e9f-4808-998d-5376fad25cc9"
   },
   "outputs": [
    {
     "data": {
      "text/html": [
       "<div>\n",
       "<style scoped>\n",
       "    .dataframe tbody tr th:only-of-type {\n",
       "        vertical-align: middle;\n",
       "    }\n",
       "\n",
       "    .dataframe tbody tr th {\n",
       "        vertical-align: top;\n",
       "    }\n",
       "\n",
       "    .dataframe thead th {\n",
       "        text-align: right;\n",
       "    }\n",
       "</style>\n",
       "<table border=\"1\" class=\"dataframe\">\n",
       "  <thead>\n",
       "    <tr style=\"text-align: right;\">\n",
       "      <th></th>\n",
       "      <th>id</th>\n",
       "      <th>timestamp</th>\n",
       "      <th>season</th>\n",
       "      <th>holiday</th>\n",
       "      <th>workingday</th>\n",
       "      <th>weather</th>\n",
       "      <th>temp</th>\n",
       "      <th>temp_feel</th>\n",
       "      <th>humidity</th>\n",
       "      <th>windspeed</th>\n",
       "      <th>demand</th>\n",
       "    </tr>\n",
       "  </thead>\n",
       "  <tbody>\n",
       "    <tr>\n",
       "      <th>8703</th>\n",
       "      <td>8704</td>\n",
       "      <td>2018-08-05 00:00:00</td>\n",
       "      <td>fall</td>\n",
       "      <td>No</td>\n",
       "      <td>No</td>\n",
       "      <td>Clear or partly cloudy</td>\n",
       "      <td>30.34</td>\n",
       "      <td>34.85</td>\n",
       "      <td>70.0</td>\n",
       "      <td>19.0012</td>\n",
       "      <td>5.030438</td>\n",
       "    </tr>\n",
       "    <tr>\n",
       "      <th>8704</th>\n",
       "      <td>8705</td>\n",
       "      <td>2018-08-05 01:00:00</td>\n",
       "      <td>fall</td>\n",
       "      <td>No</td>\n",
       "      <td>No</td>\n",
       "      <td>Clear or partly cloudy</td>\n",
       "      <td>30.34</td>\n",
       "      <td>34.85</td>\n",
       "      <td>70.0</td>\n",
       "      <td>16.9979</td>\n",
       "      <td>4.465908</td>\n",
       "    </tr>\n",
       "    <tr>\n",
       "      <th>8705</th>\n",
       "      <td>8706</td>\n",
       "      <td>2018-08-05 02:00:00</td>\n",
       "      <td>fall</td>\n",
       "      <td>No</td>\n",
       "      <td>No</td>\n",
       "      <td>Clear or partly cloudy</td>\n",
       "      <td>30.34</td>\n",
       "      <td>34.85</td>\n",
       "      <td>70.0</td>\n",
       "      <td>19.9995</td>\n",
       "      <td>4.290459</td>\n",
       "    </tr>\n",
       "    <tr>\n",
       "      <th>8706</th>\n",
       "      <td>8707</td>\n",
       "      <td>2018-08-05 03:00:00</td>\n",
       "      <td>fall</td>\n",
       "      <td>No</td>\n",
       "      <td>No</td>\n",
       "      <td>Clear or partly cloudy</td>\n",
       "      <td>29.52</td>\n",
       "      <td>34.85</td>\n",
       "      <td>74.0</td>\n",
       "      <td>16.9979</td>\n",
       "      <td>3.713572</td>\n",
       "    </tr>\n",
       "    <tr>\n",
       "      <th>8707</th>\n",
       "      <td>8708</td>\n",
       "      <td>2018-08-05 04:00:00</td>\n",
       "      <td>fall</td>\n",
       "      <td>No</td>\n",
       "      <td>No</td>\n",
       "      <td>Clear or partly cloudy</td>\n",
       "      <td>29.52</td>\n",
       "      <td>34.85</td>\n",
       "      <td>74.0</td>\n",
       "      <td>16.9979</td>\n",
       "      <td>2.639057</td>\n",
       "    </tr>\n",
       "  </tbody>\n",
       "</table>\n",
       "</div>"
      ],
      "text/plain": [
       "        id            timestamp season holiday workingday  \\\n",
       "8703  8704  2018-08-05 00:00:00   fall      No         No   \n",
       "8704  8705  2018-08-05 01:00:00   fall      No         No   \n",
       "8705  8706  2018-08-05 02:00:00   fall      No         No   \n",
       "8706  8707  2018-08-05 03:00:00   fall      No         No   \n",
       "8707  8708  2018-08-05 04:00:00   fall      No         No   \n",
       "\n",
       "                     weather   temp  temp_feel  humidity  windspeed    demand  \n",
       "8703  Clear or partly cloudy  30.34      34.85      70.0    19.0012  5.030438  \n",
       "8704  Clear or partly cloudy  30.34      34.85      70.0    16.9979  4.465908  \n",
       "8705  Clear or partly cloudy  30.34      34.85      70.0    19.9995  4.290459  \n",
       "8706  Clear or partly cloudy  29.52      34.85      74.0    16.9979  3.713572  \n",
       "8707  Clear or partly cloudy  29.52      34.85      74.0    16.9979  2.639057  "
      ]
     },
     "execution_count": 5,
     "metadata": {},
     "output_type": "execute_result"
    }
   ],
   "source": [
    "data.tail()"
   ]
  },
  {
   "cell_type": "code",
   "execution_count": 6,
   "metadata": {
    "colab": {
     "base_uri": "https://localhost:8080/"
    },
    "id": "lc4xlTzlP89H",
    "outputId": "a1e700a7-b6a8-4b4e-eeec-4b10509def41"
   },
   "outputs": [
    {
     "data": {
      "text/plain": [
       "(8708, 11)"
      ]
     },
     "execution_count": 6,
     "metadata": {},
     "output_type": "execute_result"
    }
   ],
   "source": [
    "data.shape"
   ]
  },
  {
   "cell_type": "markdown",
   "metadata": {
    "id": "aVRPluJHFDTG"
   },
   "source": [
    "# **Lets perform some EDA analysis to get insights of data**"
   ]
  },
  {
   "cell_type": "code",
   "execution_count": 7,
   "metadata": {
    "colab": {
     "base_uri": "https://localhost:8080/"
    },
    "id": "QQS_rnd4P89H",
    "outputId": "f885aed0-aff0-41bd-ddd3-8132f20d1bf3"
   },
   "outputs": [
    {
     "name": "stdout",
     "output_type": "stream",
     "text": [
      "<class 'pandas.core.frame.DataFrame'>\n",
      "RangeIndex: 8708 entries, 0 to 8707\n",
      "Data columns (total 11 columns):\n",
      " #   Column      Non-Null Count  Dtype  \n",
      "---  ------      --------------  -----  \n",
      " 0   id          8708 non-null   int64  \n",
      " 1   timestamp   8708 non-null   object \n",
      " 2   season      8708 non-null   object \n",
      " 3   holiday     8708 non-null   object \n",
      " 4   workingday  8708 non-null   object \n",
      " 5   weather     8708 non-null   object \n",
      " 6   temp        7506 non-null   float64\n",
      " 7   temp_feel   8606 non-null   float64\n",
      " 8   humidity    8669 non-null   float64\n",
      " 9   windspeed   8508 non-null   float64\n",
      " 10  demand      8708 non-null   float64\n",
      "dtypes: float64(5), int64(1), object(5)\n",
      "memory usage: 748.5+ KB\n"
     ]
    }
   ],
   "source": [
    "data.info()"
   ]
  },
  {
   "cell_type": "code",
   "execution_count": 8,
   "metadata": {
    "colab": {
     "base_uri": "https://localhost:8080/",
     "height": 297
    },
    "id": "c2RIwwBmP89I",
    "outputId": "1a696855-7319-4b1f-efc6-8a9a82c869a7"
   },
   "outputs": [
    {
     "data": {
      "text/html": [
       "<div>\n",
       "<style scoped>\n",
       "    .dataframe tbody tr th:only-of-type {\n",
       "        vertical-align: middle;\n",
       "    }\n",
       "\n",
       "    .dataframe tbody tr th {\n",
       "        vertical-align: top;\n",
       "    }\n",
       "\n",
       "    .dataframe thead th {\n",
       "        text-align: right;\n",
       "    }\n",
       "</style>\n",
       "<table border=\"1\" class=\"dataframe\">\n",
       "  <thead>\n",
       "    <tr style=\"text-align: right;\">\n",
       "      <th></th>\n",
       "      <th>id</th>\n",
       "      <th>temp</th>\n",
       "      <th>temp_feel</th>\n",
       "      <th>humidity</th>\n",
       "      <th>windspeed</th>\n",
       "      <th>demand</th>\n",
       "    </tr>\n",
       "  </thead>\n",
       "  <tbody>\n",
       "    <tr>\n",
       "      <th>count</th>\n",
       "      <td>8708.000000</td>\n",
       "      <td>7506.000000</td>\n",
       "      <td>8606.000000</td>\n",
       "      <td>8669.00000</td>\n",
       "      <td>8508.000000</td>\n",
       "      <td>8708.000000</td>\n",
       "    </tr>\n",
       "    <tr>\n",
       "      <th>mean</th>\n",
       "      <td>4354.500000</td>\n",
       "      <td>20.089454</td>\n",
       "      <td>23.531261</td>\n",
       "      <td>60.99354</td>\n",
       "      <td>13.048589</td>\n",
       "      <td>4.452725</td>\n",
       "    </tr>\n",
       "    <tr>\n",
       "      <th>std</th>\n",
       "      <td>2513.927405</td>\n",
       "      <td>8.023304</td>\n",
       "      <td>8.737997</td>\n",
       "      <td>19.67989</td>\n",
       "      <td>8.311058</td>\n",
       "      <td>1.493963</td>\n",
       "    </tr>\n",
       "    <tr>\n",
       "      <th>min</th>\n",
       "      <td>1.000000</td>\n",
       "      <td>0.820000</td>\n",
       "      <td>0.760000</td>\n",
       "      <td>0.00000</td>\n",
       "      <td>0.000000</td>\n",
       "      <td>0.000000</td>\n",
       "    </tr>\n",
       "    <tr>\n",
       "      <th>25%</th>\n",
       "      <td>2177.750000</td>\n",
       "      <td>13.940000</td>\n",
       "      <td>15.910000</td>\n",
       "      <td>46.00000</td>\n",
       "      <td>7.001500</td>\n",
       "      <td>3.637586</td>\n",
       "    </tr>\n",
       "    <tr>\n",
       "      <th>50%</th>\n",
       "      <td>4354.500000</td>\n",
       "      <td>20.500000</td>\n",
       "      <td>24.240000</td>\n",
       "      <td>60.00000</td>\n",
       "      <td>12.998000</td>\n",
       "      <td>4.867534</td>\n",
       "    </tr>\n",
       "    <tr>\n",
       "      <th>75%</th>\n",
       "      <td>6531.250000</td>\n",
       "      <td>26.240000</td>\n",
       "      <td>31.060000</td>\n",
       "      <td>77.00000</td>\n",
       "      <td>19.001200</td>\n",
       "      <td>5.556828</td>\n",
       "    </tr>\n",
       "    <tr>\n",
       "      <th>max</th>\n",
       "      <td>8708.000000</td>\n",
       "      <td>41.000000</td>\n",
       "      <td>45.455000</td>\n",
       "      <td>100.00000</td>\n",
       "      <td>56.996900</td>\n",
       "      <td>6.792344</td>\n",
       "    </tr>\n",
       "  </tbody>\n",
       "</table>\n",
       "</div>"
      ],
      "text/plain": [
       "                id         temp    temp_feel    humidity    windspeed  \\\n",
       "count  8708.000000  7506.000000  8606.000000  8669.00000  8508.000000   \n",
       "mean   4354.500000    20.089454    23.531261    60.99354    13.048589   \n",
       "std    2513.927405     8.023304     8.737997    19.67989     8.311058   \n",
       "min       1.000000     0.820000     0.760000     0.00000     0.000000   \n",
       "25%    2177.750000    13.940000    15.910000    46.00000     7.001500   \n",
       "50%    4354.500000    20.500000    24.240000    60.00000    12.998000   \n",
       "75%    6531.250000    26.240000    31.060000    77.00000    19.001200   \n",
       "max    8708.000000    41.000000    45.455000   100.00000    56.996900   \n",
       "\n",
       "            demand  \n",
       "count  8708.000000  \n",
       "mean      4.452725  \n",
       "std       1.493963  \n",
       "min       0.000000  \n",
       "25%       3.637586  \n",
       "50%       4.867534  \n",
       "75%       5.556828  \n",
       "max       6.792344  "
      ]
     },
     "execution_count": 8,
     "metadata": {},
     "output_type": "execute_result"
    }
   ],
   "source": [
    "data.describe()"
   ]
  },
  {
   "cell_type": "code",
   "execution_count": 9,
   "metadata": {
    "colab": {
     "base_uri": "https://localhost:8080/",
     "height": 204
    },
    "id": "oxF--X8RP89I",
    "outputId": "72564d57-508d-445e-c029-021f45e99e2f"
   },
   "outputs": [
    {
     "data": {
      "text/html": [
       "<div>\n",
       "<style scoped>\n",
       "    .dataframe tbody tr th:only-of-type {\n",
       "        vertical-align: middle;\n",
       "    }\n",
       "\n",
       "    .dataframe tbody tr th {\n",
       "        vertical-align: top;\n",
       "    }\n",
       "\n",
       "    .dataframe thead th {\n",
       "        text-align: right;\n",
       "    }\n",
       "</style>\n",
       "<table border=\"1\" class=\"dataframe\">\n",
       "  <thead>\n",
       "    <tr style=\"text-align: right;\">\n",
       "      <th></th>\n",
       "      <th>id</th>\n",
       "      <th>timestamp</th>\n",
       "      <th>season</th>\n",
       "      <th>holiday</th>\n",
       "      <th>workingday</th>\n",
       "      <th>weather</th>\n",
       "      <th>temp</th>\n",
       "      <th>temp_feel</th>\n",
       "      <th>humidity</th>\n",
       "      <th>windspeed</th>\n",
       "      <th>demand</th>\n",
       "    </tr>\n",
       "  </thead>\n",
       "  <tbody>\n",
       "    <tr>\n",
       "      <th>8703</th>\n",
       "      <td>8704</td>\n",
       "      <td>2018-08-05 00:00:00</td>\n",
       "      <td>fall</td>\n",
       "      <td>No</td>\n",
       "      <td>No</td>\n",
       "      <td>Clear or partly cloudy</td>\n",
       "      <td>30.34</td>\n",
       "      <td>34.85</td>\n",
       "      <td>70.0</td>\n",
       "      <td>19.0012</td>\n",
       "      <td>5.030438</td>\n",
       "    </tr>\n",
       "    <tr>\n",
       "      <th>8704</th>\n",
       "      <td>8705</td>\n",
       "      <td>2018-08-05 01:00:00</td>\n",
       "      <td>fall</td>\n",
       "      <td>No</td>\n",
       "      <td>No</td>\n",
       "      <td>Clear or partly cloudy</td>\n",
       "      <td>30.34</td>\n",
       "      <td>34.85</td>\n",
       "      <td>70.0</td>\n",
       "      <td>16.9979</td>\n",
       "      <td>4.465908</td>\n",
       "    </tr>\n",
       "    <tr>\n",
       "      <th>8705</th>\n",
       "      <td>8706</td>\n",
       "      <td>2018-08-05 02:00:00</td>\n",
       "      <td>fall</td>\n",
       "      <td>No</td>\n",
       "      <td>No</td>\n",
       "      <td>Clear or partly cloudy</td>\n",
       "      <td>30.34</td>\n",
       "      <td>34.85</td>\n",
       "      <td>70.0</td>\n",
       "      <td>19.9995</td>\n",
       "      <td>4.290459</td>\n",
       "    </tr>\n",
       "    <tr>\n",
       "      <th>8706</th>\n",
       "      <td>8707</td>\n",
       "      <td>2018-08-05 03:00:00</td>\n",
       "      <td>fall</td>\n",
       "      <td>No</td>\n",
       "      <td>No</td>\n",
       "      <td>Clear or partly cloudy</td>\n",
       "      <td>29.52</td>\n",
       "      <td>34.85</td>\n",
       "      <td>74.0</td>\n",
       "      <td>16.9979</td>\n",
       "      <td>3.713572</td>\n",
       "    </tr>\n",
       "    <tr>\n",
       "      <th>8707</th>\n",
       "      <td>8708</td>\n",
       "      <td>2018-08-05 04:00:00</td>\n",
       "      <td>fall</td>\n",
       "      <td>No</td>\n",
       "      <td>No</td>\n",
       "      <td>Clear or partly cloudy</td>\n",
       "      <td>29.52</td>\n",
       "      <td>34.85</td>\n",
       "      <td>74.0</td>\n",
       "      <td>16.9979</td>\n",
       "      <td>2.639057</td>\n",
       "    </tr>\n",
       "  </tbody>\n",
       "</table>\n",
       "</div>"
      ],
      "text/plain": [
       "        id            timestamp season holiday workingday  \\\n",
       "8703  8704  2018-08-05 00:00:00   fall      No         No   \n",
       "8704  8705  2018-08-05 01:00:00   fall      No         No   \n",
       "8705  8706  2018-08-05 02:00:00   fall      No         No   \n",
       "8706  8707  2018-08-05 03:00:00   fall      No         No   \n",
       "8707  8708  2018-08-05 04:00:00   fall      No         No   \n",
       "\n",
       "                     weather   temp  temp_feel  humidity  windspeed    demand  \n",
       "8703  Clear or partly cloudy  30.34      34.85      70.0    19.0012  5.030438  \n",
       "8704  Clear or partly cloudy  30.34      34.85      70.0    16.9979  4.465908  \n",
       "8705  Clear or partly cloudy  30.34      34.85      70.0    19.9995  4.290459  \n",
       "8706  Clear or partly cloudy  29.52      34.85      74.0    16.9979  3.713572  \n",
       "8707  Clear or partly cloudy  29.52      34.85      74.0    16.9979  2.639057  "
      ]
     },
     "execution_count": 9,
     "metadata": {},
     "output_type": "execute_result"
    }
   ],
   "source": [
    "data.tail()"
   ]
  },
  {
   "cell_type": "code",
   "execution_count": 10,
   "metadata": {
    "colab": {
     "base_uri": "https://localhost:8080/"
    },
    "id": "nSF_1VtxP89J",
    "outputId": "436679d2-aeb9-4b2b-e9c4-499d12ca46d8"
   },
   "outputs": [
    {
     "data": {
      "text/plain": [
       "id               0\n",
       "timestamp        0\n",
       "season           0\n",
       "holiday          0\n",
       "workingday       0\n",
       "weather          0\n",
       "temp          1202\n",
       "temp_feel      102\n",
       "humidity        39\n",
       "windspeed      200\n",
       "demand           0\n",
       "dtype: int64"
      ]
     },
     "execution_count": 10,
     "metadata": {},
     "output_type": "execute_result"
    }
   ],
   "source": [
    "missing_value= data.isna().sum()\n",
    "missing_value"
   ]
  },
  {
   "cell_type": "markdown",
   "metadata": {
    "id": "LoIUii2YFP3K"
   },
   "source": [
    "# **We can see that there are lots of NaN values in data. lets replace these NaN Values with appropriate valuess**\n",
    "\n",
    "**The given data include parameters like temperature, humidity and windspeed are highly dependent on seasons so lets replace the NaN values according to different seasons.**"
   ]
  },
  {
   "cell_type": "code",
   "execution_count": 11,
   "metadata": {
    "colab": {
     "base_uri": "https://localhost:8080/"
    },
    "id": "CGpJAfDlP89J",
    "outputId": "ac8f123b-a0c2-41bc-91d9-910f79c91bee"
   },
   "outputs": [
    {
     "data": {
      "text/plain": [
       "summer    2733\n",
       "spring    2686\n",
       "fall      1922\n",
       "winter    1367\n",
       "Name: season, dtype: int64"
      ]
     },
     "execution_count": 11,
     "metadata": {},
     "output_type": "execute_result"
    }
   ],
   "source": [
    "data['season'].value_counts()"
   ]
  },
  {
   "cell_type": "code",
   "execution_count": 12,
   "metadata": {
    "colab": {
     "base_uri": "https://localhost:8080/"
    },
    "id": "p8rBBXXKP89K",
    "outputId": "6ec33877-1682-45d4-cb80-7e633bf33f66"
   },
   "outputs": [
    {
     "name": "stdout",
     "output_type": "stream",
     "text": [
      "29.22061151079136\n",
      "2690    27.06\n",
      "2691    27.06\n",
      "2692    25.42\n",
      "2693    26.24\n",
      "2694    25.42\n",
      "        ...  \n",
      "8703    30.34\n",
      "8704    30.34\n",
      "8705    30.34\n",
      "8706    29.52\n",
      "8707    29.52\n",
      "Name: temp, Length: 1922, dtype: float64\n"
     ]
    }
   ],
   "source": [
    "fall_data=data.loc[data['season']=='fall']\n",
    "fall_temp=fall_data['temp']\n",
    "fall_temp_mean=fall_temp.mean()\n",
    "print(fall_temp_mean)\n",
    "print(fall_temp)\n"
   ]
  },
  {
   "cell_type": "code",
   "execution_count": 13,
   "metadata": {
    "colab": {
     "base_uri": "https://localhost:8080/"
    },
    "id": "7lEs9yY-P89K",
    "outputId": "bfe28fcc-7e89-4baa-c6ee-797bcf98b535"
   },
   "outputs": [
    {
     "name": "stdout",
     "output_type": "stream",
     "text": [
      "0\n"
     ]
    }
   ],
   "source": [
    "fall_temp=fall_temp.fillna(fall_temp_mean)\n",
    "print(fall_temp.isna().sum())"
   ]
  },
  {
   "cell_type": "code",
   "execution_count": 14,
   "metadata": {
    "colab": {
     "base_uri": "https://localhost:8080/"
    },
    "id": "4wk4DU_2P89L",
    "outputId": "20216213-376d-4f1c-9058-2ffa7d1ce477"
   },
   "outputs": [
    {
     "name": "stdout",
     "output_type": "stream",
     "text": [
      "22.87512403763859\n",
      "1323      NaN\n",
      "1324    10.66\n",
      "1325    10.66\n",
      "1326     9.84\n",
      "1327     9.84\n",
      "        ...  \n",
      "8146    32.80\n",
      "8147    32.80\n",
      "8148    31.16\n",
      "8149      NaN\n",
      "8150    29.52\n",
      "Name: temp, Length: 2733, dtype: float64\n"
     ]
    }
   ],
   "source": [
    "summer_data=data.loc[data['season']=='summer']\n",
    "summer_temp=summer_data['temp']\n",
    "summer_temp_mean= summer_temp.mean()\n",
    "print(summer_temp_mean)\n",
    "\n",
    "print(summer_temp)\n"
   ]
  },
  {
   "cell_type": "code",
   "execution_count": 15,
   "metadata": {
    "colab": {
     "base_uri": "https://localhost:8080/"
    },
    "id": "77k0qkMkP89L",
    "outputId": "5e7dbbdf-16f1-4e38-b857-69359564e34f"
   },
   "outputs": [
    {
     "name": "stdout",
     "output_type": "stream",
     "text": [
      "1323    22.875124\n",
      "1324    10.660000\n",
      "1325    10.660000\n",
      "1326     9.840000\n",
      "1327     9.840000\n",
      "          ...    \n",
      "8146    32.800000\n",
      "8147    32.800000\n",
      "8148    31.160000\n",
      "8149    22.875124\n",
      "8150    29.520000\n",
      "Name: temp, Length: 2733, dtype: float64\n",
      "0\n"
     ]
    }
   ],
   "source": [
    "summer_temp=summer_temp.fillna(summer_temp_mean)\n",
    "print(summer_temp)\n",
    "print(summer_temp.isna().sum())"
   ]
  },
  {
   "cell_type": "code",
   "execution_count": 16,
   "metadata": {
    "colab": {
     "base_uri": "https://localhost:8080/"
    },
    "id": "zIOUosEXP89L",
    "outputId": "bf55d4b5-6bc9-43d9-ea76-116063ed20c0"
   },
   "outputs": [
    {
     "name": "stdout",
     "output_type": "stream",
     "text": [
      "16.540871794871823\n",
      "4055    20.50\n",
      "4056    19.68\n",
      "4057    18.86\n",
      "4058    18.86\n",
      "4059    18.04\n",
      "        ...  \n",
      "5417    14.76\n",
      "5418    16.40\n",
      "5419    14.76\n",
      "5420    14.76\n",
      "5421    14.76\n",
      "Name: temp, Length: 1367, dtype: float64\n"
     ]
    }
   ],
   "source": [
    "winter_data=data.loc[data['season']=='winter']\n",
    "winter_temp=winter_data['temp']\n",
    "winter_temp_mean=winter_temp.mean()\n",
    "print(winter_temp_mean)\n",
    "print(winter_temp)"
   ]
  },
  {
   "cell_type": "code",
   "execution_count": 17,
   "metadata": {
    "id": "A0U7k8OSP89M"
   },
   "outputs": [],
   "source": [
    "winter_temp=winter_temp.fillna(winter_temp_mean)"
   ]
  },
  {
   "cell_type": "code",
   "execution_count": 18,
   "metadata": {
    "colab": {
     "base_uri": "https://localhost:8080/"
    },
    "id": "Q6o07Jy-P89M",
    "outputId": "13651fa4-ed6a-4965-92f0-87ed901315de"
   },
   "outputs": [
    {
     "name": "stdout",
     "output_type": "stream",
     "text": [
      "12.53931330472101\n",
      "0        9.84\n",
      "1        9.02\n",
      "2        9.02\n",
      "3        9.84\n",
      "4        9.84\n",
      "        ...  \n",
      "6780    25.42\n",
      "6781    24.60\n",
      "6782    24.60\n",
      "6783    22.96\n",
      "6784    22.96\n",
      "Name: temp, Length: 2686, dtype: float64\n"
     ]
    }
   ],
   "source": [
    "spring_data=data.loc[data['season']=='spring']\n",
    "spring_temp=spring_data['temp']\n",
    "spring_temp_mean=spring_temp.mean()\n",
    "print(spring_temp_mean)\n",
    "print(spring_temp)"
   ]
  },
  {
   "cell_type": "code",
   "execution_count": 19,
   "metadata": {
    "colab": {
     "base_uri": "https://localhost:8080/"
    },
    "id": "F3IhZD_sP89M",
    "outputId": "d8435bc3-5d4e-4b56-a21a-88abe28cf093"
   },
   "outputs": [
    {
     "name": "stdout",
     "output_type": "stream",
     "text": [
      "0        9.84\n",
      "1        9.02\n",
      "2        9.02\n",
      "3        9.84\n",
      "4        9.84\n",
      "        ...  \n",
      "6780    25.42\n",
      "6781    24.60\n",
      "6782    24.60\n",
      "6783    22.96\n",
      "6784    22.96\n",
      "Name: temp, Length: 2686, dtype: float64\n"
     ]
    }
   ],
   "source": [
    "spring_temp=spring_temp.fillna(spring_temp_mean)\n",
    "print(spring_temp)"
   ]
  },
  {
   "cell_type": "code",
   "execution_count": 20,
   "metadata": {
    "id": "WjCuA-sAP89N"
   },
   "outputs": [],
   "source": [
    "mean_value=data.groupby('season').mean()"
   ]
  },
  {
   "cell_type": "code",
   "execution_count": 21,
   "metadata": {
    "colab": {
     "base_uri": "https://localhost:8080/"
    },
    "id": "XKXAtiRgP89N",
    "outputId": "10c63e96-c044-4a1b-c6c0-4fcb46708677"
   },
   "outputs": [
    {
     "name": "stdout",
     "output_type": "stream",
     "text": [
      "                 id       temp  temp_feel   humidity  windspeed    demand\n",
      "season                                                                   \n",
      "fall    4838.530177  29.220612  33.149721  63.467295  11.566576  4.770098\n",
      "spring  3423.521221  12.539313  15.208445  56.323364  14.649567  3.984206\n",
      "summer  4736.750823  22.875124  26.670486  60.848841  13.401676  4.703267\n",
      "winter  4739.000000  16.540872  20.095030  66.975073  11.290219  4.426184\n"
     ]
    }
   ],
   "source": [
    "print(mean_value)"
   ]
  },
  {
   "cell_type": "code",
   "execution_count": 22,
   "metadata": {
    "colab": {
     "base_uri": "https://localhost:8080/"
    },
    "id": "VKUEfdMxP89N",
    "outputId": "b715d118-4898-4a82-89a8-95e7681afb2e"
   },
   "outputs": [
    {
     "name": "stderr",
     "output_type": "stream",
     "text": [
      "<ipython-input-22-71e4dc8e563b>:3: SettingWithCopyWarning: \n",
      "A value is trying to be set on a copy of a slice from a DataFrame\n",
      "\n",
      "See the caveats in the documentation: https://pandas.pydata.org/pandas-docs/stable/user_guide/indexing.html#returning-a-view-versus-a-copy\n",
      "  data.temp[i]=mean_value.loc[data.season[i]]['temp']\n"
     ]
    }
   ],
   "source": [
    "\n",
    "for i in range(len(data.temp)):\n",
    "  if pd.isna(data.temp[i])==True:\n",
    "    data.temp[i]=mean_value.loc[data.season[i]]['temp']"
   ]
  },
  {
   "cell_type": "code",
   "execution_count": 23,
   "metadata": {
    "colab": {
     "base_uri": "https://localhost:8080/"
    },
    "id": "90w5vq_pP89N",
    "outputId": "30c60061-3587-4803-b3d5-a78a81ffb987"
   },
   "outputs": [
    {
     "name": "stderr",
     "output_type": "stream",
     "text": [
      "<ipython-input-23-e310119c0945>:3: SettingWithCopyWarning: \n",
      "A value is trying to be set on a copy of a slice from a DataFrame\n",
      "\n",
      "See the caveats in the documentation: https://pandas.pydata.org/pandas-docs/stable/user_guide/indexing.html#returning-a-view-versus-a-copy\n",
      "  data.temp_feel[i]=mean_value.loc[data.season[i]]['temp_feel']\n"
     ]
    }
   ],
   "source": [
    "for i in range(len(data.temp_feel)):\n",
    "  if pd.isna(data.temp_feel[i])==True:\n",
    "    data.temp_feel[i]=mean_value.loc[data.season[i]]['temp_feel']"
   ]
  },
  {
   "cell_type": "code",
   "execution_count": 24,
   "metadata": {
    "colab": {
     "base_uri": "https://localhost:8080/"
    },
    "id": "AliJ_BIUP89O",
    "outputId": "d943e2cd-8ac9-4e41-a9bf-2829ae9a436c"
   },
   "outputs": [
    {
     "name": "stderr",
     "output_type": "stream",
     "text": [
      "<ipython-input-24-ec4dab7f76b6>:3: SettingWithCopyWarning: \n",
      "A value is trying to be set on a copy of a slice from a DataFrame\n",
      "\n",
      "See the caveats in the documentation: https://pandas.pydata.org/pandas-docs/stable/user_guide/indexing.html#returning-a-view-versus-a-copy\n",
      "  data.humidity[i]=mean_value.loc[data.season[i]]['humidity']\n"
     ]
    }
   ],
   "source": [
    "for i in range(len(data.humidity)):\n",
    "  if pd.isna(data.humidity[i])==True:\n",
    "    data.humidity[i]=mean_value.loc[data.season[i]]['humidity']"
   ]
  },
  {
   "cell_type": "code",
   "execution_count": 25,
   "metadata": {
    "colab": {
     "base_uri": "https://localhost:8080/"
    },
    "id": "qqgtXCRBP89O",
    "outputId": "cdc3502d-15b9-4ffd-dd9a-1dc4c93b8873"
   },
   "outputs": [
    {
     "name": "stderr",
     "output_type": "stream",
     "text": [
      "<ipython-input-25-f75ccbf5b74b>:3: SettingWithCopyWarning: \n",
      "A value is trying to be set on a copy of a slice from a DataFrame\n",
      "\n",
      "See the caveats in the documentation: https://pandas.pydata.org/pandas-docs/stable/user_guide/indexing.html#returning-a-view-versus-a-copy\n",
      "  data.windspeed[i]=mean_value.loc[data.season[i]]['windspeed']\n"
     ]
    }
   ],
   "source": [
    "for i in range(len(data.windspeed)):\n",
    "  if pd.isna(data.windspeed[i])==True:\n",
    "    data.windspeed[i]=mean_value.loc[data.season[i]]['windspeed']"
   ]
  },
  {
   "cell_type": "code",
   "execution_count": 26,
   "metadata": {
    "colab": {
     "base_uri": "https://localhost:8080/"
    },
    "id": "4xs-lLLOP89O",
    "outputId": "47ebf8a0-e418-4962-f8ed-0b3eccf1666e"
   },
   "outputs": [
    {
     "data": {
      "text/plain": [
       "id            0\n",
       "timestamp     0\n",
       "season        0\n",
       "holiday       0\n",
       "workingday    0\n",
       "weather       0\n",
       "temp          0\n",
       "temp_feel     0\n",
       "humidity      0\n",
       "windspeed     0\n",
       "demand        0\n",
       "dtype: int64"
      ]
     },
     "execution_count": 26,
     "metadata": {},
     "output_type": "execute_result"
    }
   ],
   "source": [
    "data.isna().sum()"
   ]
  },
  {
   "cell_type": "markdown",
   "metadata": {
    "id": "C7prDB2FGlWP"
   },
   "source": [
    "**Finally we have zero NaN Values**"
   ]
  },
  {
   "cell_type": "markdown",
   "metadata": {
    "id": "uaHCVrWEHfuA"
   },
   "source": [
    "**Now as we do not have any missing values in data, we can now check for outliers. so lets plot few boxplots that will give us information about outliers**."
   ]
  },
  {
   "cell_type": "code",
   "execution_count": 27,
   "metadata": {
    "id": "VxCsl9BsP89P"
   },
   "outputs": [],
   "source": [
    "import matplotlib.pyplot as plt\n",
    "import seaborn as sns"
   ]
  },
  {
   "cell_type": "code",
   "execution_count": 28,
   "metadata": {
    "colab": {
     "base_uri": "https://localhost:8080/"
    },
    "id": "X0FvBAaSP89P",
    "outputId": "6abd571c-7ee8-4bf5-8113-6de66b3cb69b"
   },
   "outputs": [
    {
     "data": {
      "text/plain": [
       "Index(['id', 'timestamp', 'season', 'holiday', 'workingday', 'weather', 'temp',\n",
       "       'temp_feel', 'humidity', 'windspeed', 'demand'],\n",
       "      dtype='object')"
      ]
     },
     "execution_count": 28,
     "metadata": {},
     "output_type": "execute_result"
    }
   ],
   "source": [
    "data.columns"
   ]
  },
  {
   "cell_type": "code",
   "execution_count": 29,
   "metadata": {
    "colab": {
     "base_uri": "https://localhost:8080/",
     "height": 503
    },
    "id": "n2vujcv1P89P",
    "outputId": "4a7dd04e-2ee8-4043-c4da-f470e65f3073"
   },
   "outputs": [
    {
     "data": {
      "text/plain": [
       "<AxesSubplot:xlabel='windspeed', ylabel='demand'>"
      ]
     },
     "execution_count": 29,
     "metadata": {},
     "output_type": "execute_result"
    },
    {
     "data": {
      "image/png": "[encoded data removed]",
      "text/plain": [
       "<Figure size 1080x864 with 7 Axes>"
      ]
     },
     "metadata": {
      "needs_background": "light"
     },
     "output_type": "display_data"
    }
   ],
   "source": [
    "\n",
    "plt.figure(figsize=(15,12))\n",
    "plt.subplot(3,4,1)\n",
    "sns.boxplot(x=data['season'],y=data['demand'])\n",
    "plt.subplot(3,4,2)\n",
    "sns.boxplot(x=data['holiday'],y=data['demand'])\n",
    "plt.subplot(3,4,3)\n",
    "sns.boxplot(x=data['workingday'],y=data['demand'])\n",
    "plt.subplot(3,4,4)\n",
    "sns.boxplot(x=data['weather'],y=data['demand'])\n",
    "plt.subplot(3,4,5)\n",
    "sns.boxplot(x=data['temp'],y=data['demand'])\n",
    "plt.subplot(3,4,6)\n",
    "sns.boxplot(x=data['temp_feel'],y=data['demand'])\n",
    "#plt.subplot(3,4,7)\n",
    "#sns.boxplot(x=data['humidity'],y=data['demand'])\n",
    "plt.subplot(3,4,8)\n",
    "sns.boxplot(x=data['windspeed'],y=data['demand'])"
   ]
  },
  {
   "cell_type": "markdown",
   "metadata": {
    "id": "21yZzYtlHnsS"
   },
   "source": [
    "# Removing of outliers\n",
    "**Remove the outliers from data by selecting windspeed feature**"
   ]
  },
  {
   "cell_type": "code",
   "execution_count": 30,
   "metadata": {
    "colab": {
     "base_uri": "https://localhost:8080/",
     "height": 422
    },
    "id": "NxRVB_Q0P89Q",
    "outputId": "8e515a23-306e-4486-c0c9-5c97b23be842"
   },
   "outputs": [
    {
     "name": "stderr",
     "output_type": "stream",
     "text": [
      "/Users/musubimanagement/opt/anaconda3/lib/python3.8/site-packages/seaborn/distributions.py:2557: FutureWarning: `distplot` is a deprecated function and will be removed in a future version. Please adapt your code to use either `displot` (a figure-level function with similar flexibility) or `histplot` (an axes-level function for histograms).\n",
      "  warnings.warn(msg, FutureWarning)\n",
      "/Users/musubimanagement/opt/anaconda3/lib/python3.8/site-packages/seaborn/distributions.py:2557: FutureWarning: `distplot` is a deprecated function and will be removed in a future version. Please adapt your code to use either `displot` (a figure-level function with similar flexibility) or `histplot` (an axes-level function for histograms).\n",
      "  warnings.warn(msg, FutureWarning)\n"
     ]
    },
    {
     "data": {
      "image/png": "[encoded data removed]",
      "text/plain": [
       "<Figure size 1152x360 with 2 Axes>"
      ]
     },
     "metadata": {
      "needs_background": "light"
     },
     "output_type": "display_data"
    }
   ],
   "source": [
    "plt.figure(figsize=(16,5))\n",
    "plt.subplot(1,2,1)\n",
    "sns.distplot(data['windspeed'])\n",
    "plt.subplot(1,2,2)\n",
    "sns.distplot(data['demand'])\n",
    "plt.show()"
   ]
  },
  {
   "cell_type": "code",
   "execution_count": 31,
   "metadata": {
    "colab": {
     "base_uri": "https://localhost:8080/",
     "height": 350
    },
    "id": "YPy2K-WEP89Q",
    "outputId": "2439777a-c7b6-49b2-dfc0-41e1ae640e32"
   },
   "outputs": [
    {
     "name": "stderr",
     "output_type": "stream",
     "text": [
      "/Users/musubimanagement/opt/anaconda3/lib/python3.8/site-packages/seaborn/_decorators.py:36: FutureWarning: Pass the following variable as a keyword arg: x. From version 0.12, the only valid positional argument will be `data`, and passing other arguments without an explicit keyword will result in an error or misinterpretation.\n",
      "  warnings.warn(\n"
     ]
    },
    {
     "data": {
      "text/plain": [
       "<AxesSubplot:xlabel='windspeed'>"
      ]
     },
     "execution_count": 31,
     "metadata": {},
     "output_type": "execute_result"
    },
    {
     "data": {
      "image/png": "[encoded data removed]",
      "text/plain": [
       "<Figure size 432x288 with 1 Axes>"
      ]
     },
     "metadata": {
      "needs_background": "light"
     },
     "output_type": "display_data"
    }
   ],
   "source": [
    "sns.boxplot(data['windspeed'])"
   ]
  },
  {
   "cell_type": "code",
   "execution_count": 32,
   "metadata": {
    "colab": {
     "base_uri": "https://localhost:8080/"
    },
    "id": "ySAn6s7rP89Q",
    "outputId": "6d191d9b-00a4-453a-c3fe-33636249ecf9"
   },
   "outputs": [
    {
     "name": "stdout",
     "output_type": "stream",
     "text": [
      "11.9997\n"
     ]
    }
   ],
   "source": [
    "percentile25 = data['windspeed'].quantile(0.25)\n",
    "percentile75 = data['windspeed'].quantile(0.75)\n",
    "iqr=percentile75-percentile25\n",
    "print(iqr)"
   ]
  },
  {
   "cell_type": "code",
   "execution_count": 33,
   "metadata": {
    "id": "cvd0aeg7P89R"
   },
   "outputs": [],
   "source": [
    "upper_limit = percentile75 + 1.5 * iqr\n",
    "lower_limit = percentile25 - 1.5 * iqr"
   ]
  },
  {
   "cell_type": "code",
   "execution_count": 34,
   "metadata": {
    "colab": {
     "base_uri": "https://localhost:8080/",
     "height": 49
    },
    "id": "insPvD4xP89R",
    "outputId": "30a0e5fd-6e4f-45fe-998e-460415e4a6bf"
   },
   "outputs": [
    {
     "data": {
      "text/html": [
       "<div>\n",
       "<style scoped>\n",
       "    .dataframe tbody tr th:only-of-type {\n",
       "        vertical-align: middle;\n",
       "    }\n",
       "\n",
       "    .dataframe tbody tr th {\n",
       "        vertical-align: top;\n",
       "    }\n",
       "\n",
       "    .dataframe thead th {\n",
       "        text-align: right;\n",
       "    }\n",
       "</style>\n",
       "<table border=\"1\" class=\"dataframe\">\n",
       "  <thead>\n",
       "    <tr style=\"text-align: right;\">\n",
       "      <th></th>\n",
       "      <th>id</th>\n",
       "      <th>timestamp</th>\n",
       "      <th>season</th>\n",
       "      <th>holiday</th>\n",
       "      <th>workingday</th>\n",
       "      <th>weather</th>\n",
       "      <th>temp</th>\n",
       "      <th>temp_feel</th>\n",
       "      <th>humidity</th>\n",
       "      <th>windspeed</th>\n",
       "      <th>demand</th>\n",
       "    </tr>\n",
       "  </thead>\n",
       "  <tbody>\n",
       "  </tbody>\n",
       "</table>\n",
       "</div>"
      ],
      "text/plain": [
       "Empty DataFrame\n",
       "Columns: [id, timestamp, season, holiday, workingday, weather, temp, temp_feel, humidity, windspeed, demand]\n",
       "Index: []"
      ]
     },
     "execution_count": 34,
     "metadata": {},
     "output_type": "execute_result"
    }
   ],
   "source": [
    "data[data['windspeed'] > upper_limit]\n",
    "data[data['windspeed'] < lower_limit]"
   ]
  },
  {
   "cell_type": "code",
   "execution_count": 35,
   "metadata": {
    "colab": {
     "base_uri": "https://localhost:8080/"
    },
    "id": "FqnXwgeOP89R",
    "outputId": "5b875766-59d1-4f59-90a8-752d7f7718bf"
   },
   "outputs": [
    {
     "data": {
      "text/plain": [
       "(8648, 11)"
      ]
     },
     "execution_count": 35,
     "metadata": {},
     "output_type": "execute_result"
    }
   ],
   "source": [
    "df=data[data['windspeed'] < upper_limit]\n",
    "df.shape"
   ]
  },
  {
   "cell_type": "code",
   "execution_count": 36,
   "metadata": {
    "colab": {
     "base_uri": "https://localhost:8080/",
     "height": 653
    },
    "id": "apRTdeP1P89R",
    "outputId": "3ff38a4f-2aa1-43a7-f3e7-8880629f45de"
   },
   "outputs": [
    {
     "name": "stderr",
     "output_type": "stream",
     "text": [
      "/Users/musubimanagement/opt/anaconda3/lib/python3.8/site-packages/seaborn/distributions.py:2557: FutureWarning: `distplot` is a deprecated function and will be removed in a future version. Please adapt your code to use either `displot` (a figure-level function with similar flexibility) or `histplot` (an axes-level function for histograms).\n",
      "  warnings.warn(msg, FutureWarning)\n",
      "/Users/musubimanagement/opt/anaconda3/lib/python3.8/site-packages/seaborn/_decorators.py:36: FutureWarning: Pass the following variable as a keyword arg: x. From version 0.12, the only valid positional argument will be `data`, and passing other arguments without an explicit keyword will result in an error or misinterpretation.\n",
      "  warnings.warn(\n",
      "/Users/musubimanagement/opt/anaconda3/lib/python3.8/site-packages/seaborn/distributions.py:2557: FutureWarning: `distplot` is a deprecated function and will be removed in a future version. Please adapt your code to use either `displot` (a figure-level function with similar flexibility) or `histplot` (an axes-level function for histograms).\n",
      "  warnings.warn(msg, FutureWarning)\n",
      "/Users/musubimanagement/opt/anaconda3/lib/python3.8/site-packages/seaborn/_decorators.py:36: FutureWarning: Pass the following variable as a keyword arg: x. From version 0.12, the only valid positional argument will be `data`, and passing other arguments without an explicit keyword will result in an error or misinterpretation.\n",
      "  warnings.warn(\n"
     ]
    },
    {
     "data": {
      "image/png": "[encoded data removed]",
      "text/plain": [
       "<Figure size 1152x576 with 4 Axes>"
      ]
     },
     "metadata": {
      "needs_background": "light"
     },
     "output_type": "display_data"
    }
   ],
   "source": [
    "plt.figure(figsize=(16,8))\n",
    "plt.subplot(2,2,1)\n",
    "sns.distplot(data['windspeed'])\n",
    "plt.subplot(2,2,2)\n",
    "sns.boxplot(data['windspeed'])\n",
    "plt.subplot(2,2,3)\n",
    "sns.distplot(df['windspeed'])\n",
    "plt.subplot(2,2,4)\n",
    "sns.boxplot(df['windspeed'])\n",
    "plt.show()"
   ]
  },
  {
   "cell_type": "markdown",
   "metadata": {
    "id": "38SfX5WCH0Hy"
   },
   "source": [
    "We can see from above plot that initially we had many outliers in data but now outliers got reduced"
   ]
  },
  {
   "cell_type": "markdown",
   "metadata": {
    "id": "-wSuSGOuKdc3"
   },
   "source": [
    "# Finding correlation\n",
    "Now our data is free of outliers we can now see how features are corelated to each others. "
   ]
  },
  {
   "cell_type": "code",
   "execution_count": 37,
   "metadata": {
    "colab": {
     "base_uri": "https://localhost:8080/",
     "height": 235
    },
    "id": "dFVAXGq_P89S",
    "outputId": "a7af64b3-cda5-4448-bc8d-5b0e5940e8f7"
   },
   "outputs": [
    {
     "data": {
      "text/html": [
       "<div>\n",
       "<style scoped>\n",
       "    .dataframe tbody tr th:only-of-type {\n",
       "        vertical-align: middle;\n",
       "    }\n",
       "\n",
       "    .dataframe tbody tr th {\n",
       "        vertical-align: top;\n",
       "    }\n",
       "\n",
       "    .dataframe thead th {\n",
       "        text-align: right;\n",
       "    }\n",
       "</style>\n",
       "<table border=\"1\" class=\"dataframe\">\n",
       "  <thead>\n",
       "    <tr style=\"text-align: right;\">\n",
       "      <th></th>\n",
       "      <th>id</th>\n",
       "      <th>temp</th>\n",
       "      <th>temp_feel</th>\n",
       "      <th>humidity</th>\n",
       "      <th>windspeed</th>\n",
       "      <th>demand</th>\n",
       "    </tr>\n",
       "  </thead>\n",
       "  <tbody>\n",
       "    <tr>\n",
       "      <th>id</th>\n",
       "      <td>1.000000</td>\n",
       "      <td>0.275912</td>\n",
       "      <td>0.287319</td>\n",
       "      <td>-0.054140</td>\n",
       "      <td>-0.066383</td>\n",
       "      <td>0.226754</td>\n",
       "    </tr>\n",
       "    <tr>\n",
       "      <th>temp</th>\n",
       "      <td>0.275912</td>\n",
       "      <td>1.000000</td>\n",
       "      <td>0.964019</td>\n",
       "      <td>-0.055384</td>\n",
       "      <td>-0.023598</td>\n",
       "      <td>0.373203</td>\n",
       "    </tr>\n",
       "    <tr>\n",
       "      <th>temp_feel</th>\n",
       "      <td>0.287319</td>\n",
       "      <td>0.964019</td>\n",
       "      <td>1.000000</td>\n",
       "      <td>-0.051235</td>\n",
       "      <td>-0.058714</td>\n",
       "      <td>0.389740</td>\n",
       "    </tr>\n",
       "    <tr>\n",
       "      <th>humidity</th>\n",
       "      <td>-0.054140</td>\n",
       "      <td>-0.055384</td>\n",
       "      <td>-0.051235</td>\n",
       "      <td>1.000000</td>\n",
       "      <td>-0.304326</td>\n",
       "      <td>-0.331957</td>\n",
       "    </tr>\n",
       "    <tr>\n",
       "      <th>windspeed</th>\n",
       "      <td>-0.066383</td>\n",
       "      <td>-0.023598</td>\n",
       "      <td>-0.058714</td>\n",
       "      <td>-0.304326</td>\n",
       "      <td>1.000000</td>\n",
       "      <td>0.123095</td>\n",
       "    </tr>\n",
       "    <tr>\n",
       "      <th>demand</th>\n",
       "      <td>0.226754</td>\n",
       "      <td>0.373203</td>\n",
       "      <td>0.389740</td>\n",
       "      <td>-0.331957</td>\n",
       "      <td>0.123095</td>\n",
       "      <td>1.000000</td>\n",
       "    </tr>\n",
       "  </tbody>\n",
       "</table>\n",
       "</div>"
      ],
      "text/plain": [
       "                 id      temp  temp_feel  humidity  windspeed    demand\n",
       "id         1.000000  0.275912   0.287319 -0.054140  -0.066383  0.226754\n",
       "temp       0.275912  1.000000   0.964019 -0.055384  -0.023598  0.373203\n",
       "temp_feel  0.287319  0.964019   1.000000 -0.051235  -0.058714  0.389740\n",
       "humidity  -0.054140 -0.055384  -0.051235  1.000000  -0.304326 -0.331957\n",
       "windspeed -0.066383 -0.023598  -0.058714 -0.304326   1.000000  0.123095\n",
       "demand     0.226754  0.373203   0.389740 -0.331957   0.123095  1.000000"
      ]
     },
     "execution_count": 37,
     "metadata": {},
     "output_type": "execute_result"
    }
   ],
   "source": [
    "data_corr=df.corr()\n",
    "data_corr"
   ]
  },
  {
   "cell_type": "code",
   "execution_count": 38,
   "metadata": {
    "colab": {
     "base_uri": "https://localhost:8080/",
     "height": 578
    },
    "id": "IItlbWLWP89S",
    "outputId": "acfc3870-4623-4be6-9add-5000738a0b06"
   },
   "outputs": [
    {
     "data": {
      "image/png": "[encoded data removed]",
      "text/plain": [
       "<Figure size 720x720 with 2 Axes>"
      ]
     },
     "metadata": {
      "needs_background": "light"
     },
     "output_type": "display_data"
    }
   ],
   "source": [
    "plt.figure(figsize=(10,10))\n",
    "sns.heatmap(data_corr, annot=True, cmap='cubehelix_r',square=True) \n",
    "plt.show()"
   ]
  },
  {
   "cell_type": "code",
   "execution_count": 39,
   "metadata": {
    "colab": {
     "base_uri": "https://localhost:8080/",
     "height": 235
    },
    "id": "d3czF_YEP89S",
    "outputId": "5c26f97c-295d-4136-bb0f-6ae0b3eb64ab"
   },
   "outputs": [
    {
     "data": {
      "text/html": [
       "<style  type=\"text/css\" >\n",
       "#T_f4f10_row0_col0{\n",
       "            background-color:  #008000;\n",
       "            color:  #f1f1f1;\n",
       "        }#T_f4f10_row1_col0{\n",
       "            background-color:  #6cb56c;\n",
       "            color:  #000000;\n",
       "        }#T_f4f10_row2_col0{\n",
       "            background-color:  #6eb66e;\n",
       "            color:  #000000;\n",
       "        }#T_f4f10_row3_col0{\n",
       "            background-color:  #88c388;\n",
       "            color:  #000000;\n",
       "        }#T_f4f10_row4_col0{\n",
       "            background-color:  #9bcc9b;\n",
       "            color:  #000000;\n",
       "        }#T_f4f10_row5_col0{\n",
       "            background-color:  #ebf3eb;\n",
       "            color:  #000000;\n",
       "        }</style><table id=\"T_f4f10_\" ><thead>    <tr>        <th class=\"blank level0\" ></th>        <th class=\"col_heading level0 col0\" >Correlation to the target</th>    </tr></thead><tbody>\n",
       "                <tr>\n",
       "                        <th id=\"T_f4f10_level0_row0\" class=\"row_heading level0 row0\" >demand</th>\n",
       "                        <td id=\"T_f4f10_row0_col0\" class=\"data row0 col0\" >1.000000</td>\n",
       "            </tr>\n",
       "            <tr>\n",
       "                        <th id=\"T_f4f10_level0_row1\" class=\"row_heading level0 row1\" >temp_feel</th>\n",
       "                        <td id=\"T_f4f10_row1_col0\" class=\"data row1 col0\" >0.390950</td>\n",
       "            </tr>\n",
       "            <tr>\n",
       "                        <th id=\"T_f4f10_level0_row2\" class=\"row_heading level0 row2\" >temp</th>\n",
       "                        <td id=\"T_f4f10_row2_col0\" class=\"data row2 col0\" >0.373886</td>\n",
       "            </tr>\n",
       "            <tr>\n",
       "                        <th id=\"T_f4f10_level0_row3\" class=\"row_heading level0 row3\" >id</th>\n",
       "                        <td id=\"T_f4f10_row3_col0\" class=\"data row3 col0\" >0.227017</td>\n",
       "            </tr>\n",
       "            <tr>\n",
       "                        <th id=\"T_f4f10_level0_row4\" class=\"row_heading level0 row4\" >windspeed</th>\n",
       "                        <td id=\"T_f4f10_row4_col0\" class=\"data row4 col0\" >0.117792</td>\n",
       "            </tr>\n",
       "            <tr>\n",
       "                        <th id=\"T_f4f10_level0_row5\" class=\"row_heading level0 row5\" >humidity</th>\n",
       "                        <td id=\"T_f4f10_row5_col0\" class=\"data row5 col0\" >-0.330766</td>\n",
       "            </tr>\n",
       "    </tbody></table>"
      ],
      "text/plain": [
       "<pandas.io.formats.style.Styler at 0x7f9e8d85a520>"
      ]
     },
     "execution_count": 39,
     "metadata": {},
     "output_type": "execute_result"
    }
   ],
   "source": [
    "dataCorr=pd.DataFrame(data.corr().unstack().sort_values(ascending=False)['demand'],columns=['Correlation to the target'])\n",
    "dataCorr.style.background_gradient(cmap=sns.light_palette(\"green\", as_cmap=True))"
   ]
  },
  {
   "cell_type": "markdown",
   "metadata": {
    "id": "N1a2_LL1LC9m"
   },
   "source": [
    "we can see that temperature, temp_feel and humidity are almost equally related with demand. The only difference is humidity has negative correlation with demand"
   ]
  },
  {
   "cell_type": "markdown",
   "metadata": {
    "id": "gyzNqjVLLWTi"
   },
   "source": [
    "# Adding features\n",
    "We are almost done but this data has little information so we need to extract few more features fro timestamp feature"
   ]
  },
  {
   "cell_type": "code",
   "execution_count": 40,
   "metadata": {
    "colab": {
     "base_uri": "https://localhost:8080/",
     "height": 1000
    },
    "id": "ROGW3ESJLmQU",
    "outputId": "46887368-06b8-47be-a9b8-ef77c37c559e"
   },
   "outputs": [
    {
     "name": "stderr",
     "output_type": "stream",
     "text": [
      "<ipython-input-40-276830f6d642>:1: SettingWithCopyWarning: \n",
      "A value is trying to be set on a copy of a slice from a DataFrame.\n",
      "Try using .loc[row_indexer,col_indexer] = value instead\n",
      "\n",
      "See the caveats in the documentation: https://pandas.pydata.org/pandas-docs/stable/user_guide/indexing.html#returning-a-view-versus-a-copy\n",
      "  df['date'] = pd.to_datetime(df['timestamp'],format='%Y-%m-%d')\n",
      "<ipython-input-40-276830f6d642>:2: SettingWithCopyWarning: \n",
      "A value is trying to be set on a copy of a slice from a DataFrame.\n",
      "Try using .loc[row_indexer,col_indexer] = value instead\n",
      "\n",
      "See the caveats in the documentation: https://pandas.pydata.org/pandas-docs/stable/user_guide/indexing.html#returning-a-view-versus-a-copy\n",
      "  df['year'] = pd.DatetimeIndex(df['timestamp']).year\n",
      "<ipython-input-40-276830f6d642>:3: SettingWithCopyWarning: \n",
      "A value is trying to be set on a copy of a slice from a DataFrame.\n",
      "Try using .loc[row_indexer,col_indexer] = value instead\n",
      "\n",
      "See the caveats in the documentation: https://pandas.pydata.org/pandas-docs/stable/user_guide/indexing.html#returning-a-view-versus-a-copy\n",
      "  df['hour'] = pd.DatetimeIndex(df['timestamp']).hour\n",
      "<ipython-input-40-276830f6d642>:4: SettingWithCopyWarning: \n",
      "A value is trying to be set on a copy of a slice from a DataFrame.\n",
      "Try using .loc[row_indexer,col_indexer] = value instead\n",
      "\n",
      "See the caveats in the documentation: https://pandas.pydata.org/pandas-docs/stable/user_guide/indexing.html#returning-a-view-versus-a-copy\n",
      "  df['weekdays'] = pd.DatetimeIndex(df['timestamp']).weekday\n",
      "<ipython-input-40-276830f6d642>:6: SettingWithCopyWarning: \n",
      "A value is trying to be set on a copy of a slice from a DataFrame.\n",
      "Try using .loc[row_indexer,col_indexer] = value instead\n",
      "\n",
      "See the caveats in the documentation: https://pandas.pydata.org/pandas-docs/stable/user_guide/indexing.html#returning-a-view-versus-a-copy\n",
      "  df['label_day_night']=df['hour'].apply(lambda x : 0 if (x >20 or x<5) else( 1))\n",
      "<ipython-input-40-276830f6d642>:7: SettingWithCopyWarning: \n",
      "A value is trying to be set on a copy of a slice from a DataFrame.\n",
      "Try using .loc[row_indexer,col_indexer] = value instead\n",
      "\n",
      "See the caveats in the documentation: https://pandas.pydata.org/pandas-docs/stable/user_guide/indexing.html#returning-a-view-versus-a-copy\n",
      "  df['year']=df['year'].apply(lambda x : '0' if (x ==2017) else( '1'))\n"
     ]
    },
    {
     "data": {
      "text/html": [
       "<div>\n",
       "<style scoped>\n",
       "    .dataframe tbody tr th:only-of-type {\n",
       "        vertical-align: middle;\n",
       "    }\n",
       "\n",
       "    .dataframe tbody tr th {\n",
       "        vertical-align: top;\n",
       "    }\n",
       "\n",
       "    .dataframe thead th {\n",
       "        text-align: right;\n",
       "    }\n",
       "</style>\n",
       "<table border=\"1\" class=\"dataframe\">\n",
       "  <thead>\n",
       "    <tr style=\"text-align: right;\">\n",
       "      <th></th>\n",
       "      <th>id</th>\n",
       "      <th>timestamp</th>\n",
       "      <th>season</th>\n",
       "      <th>holiday</th>\n",
       "      <th>workingday</th>\n",
       "      <th>weather</th>\n",
       "      <th>temp</th>\n",
       "      <th>temp_feel</th>\n",
       "      <th>humidity</th>\n",
       "      <th>windspeed</th>\n",
       "      <th>demand</th>\n",
       "      <th>date</th>\n",
       "      <th>year</th>\n",
       "      <th>hour</th>\n",
       "      <th>weekdays</th>\n",
       "      <th>label_day_night</th>\n",
       "    </tr>\n",
       "  </thead>\n",
       "  <tbody>\n",
       "    <tr>\n",
       "      <th>0</th>\n",
       "      <td>1</td>\n",
       "      <td>2017-01-01 00:00:00</td>\n",
       "      <td>spring</td>\n",
       "      <td>No</td>\n",
       "      <td>No</td>\n",
       "      <td>Clear or partly cloudy</td>\n",
       "      <td>9.84</td>\n",
       "      <td>14.395</td>\n",
       "      <td>81.0</td>\n",
       "      <td>0.0000</td>\n",
       "      <td>2.772589</td>\n",
       "      <td>2017-01-01 00:00:00</td>\n",
       "      <td>0</td>\n",
       "      <td>0</td>\n",
       "      <td>6</td>\n",
       "      <td>0</td>\n",
       "    </tr>\n",
       "    <tr>\n",
       "      <th>1</th>\n",
       "      <td>2</td>\n",
       "      <td>2017-01-01 01:00:00</td>\n",
       "      <td>spring</td>\n",
       "      <td>No</td>\n",
       "      <td>No</td>\n",
       "      <td>Clear or partly cloudy</td>\n",
       "      <td>9.02</td>\n",
       "      <td>13.635</td>\n",
       "      <td>80.0</td>\n",
       "      <td>0.0000</td>\n",
       "      <td>3.688879</td>\n",
       "      <td>2017-01-01 01:00:00</td>\n",
       "      <td>0</td>\n",
       "      <td>1</td>\n",
       "      <td>6</td>\n",
       "      <td>0</td>\n",
       "    </tr>\n",
       "    <tr>\n",
       "      <th>2</th>\n",
       "      <td>3</td>\n",
       "      <td>2017-01-01 02:00:00</td>\n",
       "      <td>spring</td>\n",
       "      <td>No</td>\n",
       "      <td>No</td>\n",
       "      <td>Clear or partly cloudy</td>\n",
       "      <td>9.02</td>\n",
       "      <td>13.635</td>\n",
       "      <td>80.0</td>\n",
       "      <td>0.0000</td>\n",
       "      <td>3.465736</td>\n",
       "      <td>2017-01-01 02:00:00</td>\n",
       "      <td>0</td>\n",
       "      <td>2</td>\n",
       "      <td>6</td>\n",
       "      <td>0</td>\n",
       "    </tr>\n",
       "    <tr>\n",
       "      <th>3</th>\n",
       "      <td>4</td>\n",
       "      <td>2017-01-01 03:00:00</td>\n",
       "      <td>spring</td>\n",
       "      <td>No</td>\n",
       "      <td>No</td>\n",
       "      <td>Clear or partly cloudy</td>\n",
       "      <td>9.84</td>\n",
       "      <td>14.395</td>\n",
       "      <td>75.0</td>\n",
       "      <td>0.0000</td>\n",
       "      <td>2.564949</td>\n",
       "      <td>2017-01-01 03:00:00</td>\n",
       "      <td>0</td>\n",
       "      <td>3</td>\n",
       "      <td>6</td>\n",
       "      <td>0</td>\n",
       "    </tr>\n",
       "    <tr>\n",
       "      <th>4</th>\n",
       "      <td>5</td>\n",
       "      <td>2017-01-01 04:00:00</td>\n",
       "      <td>spring</td>\n",
       "      <td>No</td>\n",
       "      <td>No</td>\n",
       "      <td>Clear or partly cloudy</td>\n",
       "      <td>9.84</td>\n",
       "      <td>14.395</td>\n",
       "      <td>75.0</td>\n",
       "      <td>0.0000</td>\n",
       "      <td>0.000000</td>\n",
       "      <td>2017-01-01 04:00:00</td>\n",
       "      <td>0</td>\n",
       "      <td>4</td>\n",
       "      <td>6</td>\n",
       "      <td>0</td>\n",
       "    </tr>\n",
       "    <tr>\n",
       "      <th>...</th>\n",
       "      <td>...</td>\n",
       "      <td>...</td>\n",
       "      <td>...</td>\n",
       "      <td>...</td>\n",
       "      <td>...</td>\n",
       "      <td>...</td>\n",
       "      <td>...</td>\n",
       "      <td>...</td>\n",
       "      <td>...</td>\n",
       "      <td>...</td>\n",
       "      <td>...</td>\n",
       "      <td>...</td>\n",
       "      <td>...</td>\n",
       "      <td>...</td>\n",
       "      <td>...</td>\n",
       "      <td>...</td>\n",
       "    </tr>\n",
       "    <tr>\n",
       "      <th>8703</th>\n",
       "      <td>8704</td>\n",
       "      <td>2018-08-05 00:00:00</td>\n",
       "      <td>fall</td>\n",
       "      <td>No</td>\n",
       "      <td>No</td>\n",
       "      <td>Clear or partly cloudy</td>\n",
       "      <td>30.34</td>\n",
       "      <td>34.850</td>\n",
       "      <td>70.0</td>\n",
       "      <td>19.0012</td>\n",
       "      <td>5.030438</td>\n",
       "      <td>2018-08-05 00:00:00</td>\n",
       "      <td>1</td>\n",
       "      <td>0</td>\n",
       "      <td>6</td>\n",
       "      <td>0</td>\n",
       "    </tr>\n",
       "    <tr>\n",
       "      <th>8704</th>\n",
       "      <td>8705</td>\n",
       "      <td>2018-08-05 01:00:00</td>\n",
       "      <td>fall</td>\n",
       "      <td>No</td>\n",
       "      <td>No</td>\n",
       "      <td>Clear or partly cloudy</td>\n",
       "      <td>30.34</td>\n",
       "      <td>34.850</td>\n",
       "      <td>70.0</td>\n",
       "      <td>16.9979</td>\n",
       "      <td>4.465908</td>\n",
       "      <td>2018-08-05 01:00:00</td>\n",
       "      <td>1</td>\n",
       "      <td>1</td>\n",
       "      <td>6</td>\n",
       "      <td>0</td>\n",
       "    </tr>\n",
       "    <tr>\n",
       "      <th>8705</th>\n",
       "      <td>8706</td>\n",
       "      <td>2018-08-05 02:00:00</td>\n",
       "      <td>fall</td>\n",
       "      <td>No</td>\n",
       "      <td>No</td>\n",
       "      <td>Clear or partly cloudy</td>\n",
       "      <td>30.34</td>\n",
       "      <td>34.850</td>\n",
       "      <td>70.0</td>\n",
       "      <td>19.9995</td>\n",
       "      <td>4.290459</td>\n",
       "      <td>2018-08-05 02:00:00</td>\n",
       "      <td>1</td>\n",
       "      <td>2</td>\n",
       "      <td>6</td>\n",
       "      <td>0</td>\n",
       "    </tr>\n",
       "    <tr>\n",
       "      <th>8706</th>\n",
       "      <td>8707</td>\n",
       "      <td>2018-08-05 03:00:00</td>\n",
       "      <td>fall</td>\n",
       "      <td>No</td>\n",
       "      <td>No</td>\n",
       "      <td>Clear or partly cloudy</td>\n",
       "      <td>29.52</td>\n",
       "      <td>34.850</td>\n",
       "      <td>74.0</td>\n",
       "      <td>16.9979</td>\n",
       "      <td>3.713572</td>\n",
       "      <td>2018-08-05 03:00:00</td>\n",
       "      <td>1</td>\n",
       "      <td>3</td>\n",
       "      <td>6</td>\n",
       "      <td>0</td>\n",
       "    </tr>\n",
       "    <tr>\n",
       "      <th>8707</th>\n",
       "      <td>8708</td>\n",
       "      <td>2018-08-05 04:00:00</td>\n",
       "      <td>fall</td>\n",
       "      <td>No</td>\n",
       "      <td>No</td>\n",
       "      <td>Clear or partly cloudy</td>\n",
       "      <td>29.52</td>\n",
       "      <td>34.850</td>\n",
       "      <td>74.0</td>\n",
       "      <td>16.9979</td>\n",
       "      <td>2.639057</td>\n",
       "      <td>2018-08-05 04:00:00</td>\n",
       "      <td>1</td>\n",
       "      <td>4</td>\n",
       "      <td>6</td>\n",
       "      <td>0</td>\n",
       "    </tr>\n",
       "  </tbody>\n",
       "</table>\n",
       "<p>8648 rows × 16 columns</p>\n",
       "</div>"
      ],
      "text/plain": [
       "        id            timestamp  season holiday workingday  \\\n",
       "0        1  2017-01-01 00:00:00  spring      No         No   \n",
       "1        2  2017-01-01 01:00:00  spring      No         No   \n",
       "2        3  2017-01-01 02:00:00  spring      No         No   \n",
       "3        4  2017-01-01 03:00:00  spring      No         No   \n",
       "4        5  2017-01-01 04:00:00  spring      No         No   \n",
       "...    ...                  ...     ...     ...        ...   \n",
       "8703  8704  2018-08-05 00:00:00    fall      No         No   \n",
       "8704  8705  2018-08-05 01:00:00    fall      No         No   \n",
       "8705  8706  2018-08-05 02:00:00    fall      No         No   \n",
       "8706  8707  2018-08-05 03:00:00    fall      No         No   \n",
       "8707  8708  2018-08-05 04:00:00    fall      No         No   \n",
       "\n",
       "                     weather   temp  temp_feel  humidity  windspeed    demand  \\\n",
       "0     Clear or partly cloudy   9.84     14.395      81.0     0.0000  2.772589   \n",
       "1     Clear or partly cloudy   9.02     13.635      80.0     0.0000  3.688879   \n",
       "2     Clear or partly cloudy   9.02     13.635      80.0     0.0000  3.465736   \n",
       "3     Clear or partly cloudy   9.84     14.395      75.0     0.0000  2.564949   \n",
       "4     Clear or partly cloudy   9.84     14.395      75.0     0.0000  0.000000   \n",
       "...                      ...    ...        ...       ...        ...       ...   \n",
       "8703  Clear or partly cloudy  30.34     34.850      70.0    19.0012  5.030438   \n",
       "8704  Clear or partly cloudy  30.34     34.850      70.0    16.9979  4.465908   \n",
       "8705  Clear or partly cloudy  30.34     34.850      70.0    19.9995  4.290459   \n",
       "8706  Clear or partly cloudy  29.52     34.850      74.0    16.9979  3.713572   \n",
       "8707  Clear or partly cloudy  29.52     34.850      74.0    16.9979  2.639057   \n",
       "\n",
       "                    date year  hour  weekdays  label_day_night  \n",
       "0    2017-01-01 00:00:00    0     0         6                0  \n",
       "1    2017-01-01 01:00:00    0     1         6                0  \n",
       "2    2017-01-01 02:00:00    0     2         6                0  \n",
       "3    2017-01-01 03:00:00    0     3         6                0  \n",
       "4    2017-01-01 04:00:00    0     4         6                0  \n",
       "...                  ...  ...   ...       ...              ...  \n",
       "8703 2018-08-05 00:00:00    1     0         6                0  \n",
       "8704 2018-08-05 01:00:00    1     1         6                0  \n",
       "8705 2018-08-05 02:00:00    1     2         6                0  \n",
       "8706 2018-08-05 03:00:00    1     3         6                0  \n",
       "8707 2018-08-05 04:00:00    1     4         6                0  \n",
       "\n",
       "[8648 rows x 16 columns]"
      ]
     },
     "execution_count": 40,
     "metadata": {},
     "output_type": "execute_result"
    }
   ],
   "source": [
    "df['date'] = pd.to_datetime(df['timestamp'],format='%Y-%m-%d')\n",
    "df['year'] = pd.DatetimeIndex(df['timestamp']).year\n",
    "df['hour'] = pd.DatetimeIndex(df['timestamp']).hour\n",
    "df['weekdays'] = pd.DatetimeIndex(df['timestamp']).weekday\n",
    "# variable that will distinguish between night and day\n",
    "df['label_day_night']=df['hour'].apply(lambda x : 0 if (x >20 or x<5) else( 1))\n",
    "df['year']=df['year'].apply(lambda x : '0' if (x ==2017) else( '1'))\n",
    "df"
   ]
  },
  {
   "cell_type": "markdown",
   "metadata": {
    "id": "Hm_F_N-LL-9K"
   },
   "source": [
    "now we haeve 15+ features in data. we are almost ready for modeling now"
   ]
  },
  {
   "cell_type": "markdown",
   "metadata": {
    "id": "96WmOir9MQ2p"
   },
   "source": [
    "# Label Encoding\n",
    "We have now data that can be used in different model to find better accuracy, however there are few features in data that are categorical. We  have to change that categorical data into numeric value by using different label encoding"
   ]
  },
  {
   "cell_type": "code",
   "execution_count": 41,
   "metadata": {
    "colab": {
     "base_uri": "https://localhost:8080/"
    },
    "id": "thHoGsdZMt1w",
    "outputId": "0783b721-15c1-4cd5-83f2-fcf19db75897"
   },
   "outputs": [],
   "source": [
    "import category_encoders as ce\n",
    "from sklearn.preprocessing import OneHotEncoder"
   ]
  },
  {
   "cell_type": "code",
   "execution_count": 42,
   "metadata": {
    "colab": {
     "base_uri": "https://localhost:8080/"
    },
    "id": "6RyHjGeLM3ye",
    "outputId": "b00472d4-7b71-4427-ffd8-9c9fb59c0897"
   },
   "outputs": [
    {
     "name": "stderr",
     "output_type": "stream",
     "text": [
      "<ipython-input-42-25149d83ac0b>:1: SettingWithCopyWarning: \n",
      "A value is trying to be set on a copy of a slice from a DataFrame.\n",
      "Try using .loc[row_indexer,col_indexer] = value instead\n",
      "\n",
      "See the caveats in the documentation: https://pandas.pydata.org/pandas-docs/stable/user_guide/indexing.html#returning-a-view-versus-a-copy\n",
      "  df['workingday']=df['workingday'].apply(lambda x : 1 if (x =='Yes') else(0))\n",
      "<ipython-input-42-25149d83ac0b>:2: SettingWithCopyWarning: \n",
      "A value is trying to be set on a copy of a slice from a DataFrame.\n",
      "Try using .loc[row_indexer,col_indexer] = value instead\n",
      "\n",
      "See the caveats in the documentation: https://pandas.pydata.org/pandas-docs/stable/user_guide/indexing.html#returning-a-view-versus-a-copy\n",
      "  df['holiday']=df['holiday'].apply(lambda x : 1 if (x =='Yes') else(0))\n",
      "<ipython-input-42-25149d83ac0b>:3: SettingWithCopyWarning: \n",
      "A value is trying to be set on a copy of a slice from a DataFrame.\n",
      "Try using .loc[row_indexer,col_indexer] = value instead\n",
      "\n",
      "See the caveats in the documentation: https://pandas.pydata.org/pandas-docs/stable/user_guide/indexing.html#returning-a-view-versus-a-copy\n",
      "  df['season']=df['season'].replace(['fall'],1)\n",
      "<ipython-input-42-25149d83ac0b>:4: SettingWithCopyWarning: \n",
      "A value is trying to be set on a copy of a slice from a DataFrame.\n",
      "Try using .loc[row_indexer,col_indexer] = value instead\n",
      "\n",
      "See the caveats in the documentation: https://pandas.pydata.org/pandas-docs/stable/user_guide/indexing.html#returning-a-view-versus-a-copy\n",
      "  df['season']=df['season'].replace(['summer'],1)\n",
      "<ipython-input-42-25149d83ac0b>:8: SettingWithCopyWarning: \n",
      "A value is trying to be set on a copy of a slice from a DataFrame.\n",
      "Try using .loc[row_indexer,col_indexer] = value instead\n",
      "\n",
      "See the caveats in the documentation: https://pandas.pydata.org/pandas-docs/stable/user_guide/indexing.html#returning-a-view-versus-a-copy\n",
      "  df['season']=df['season'].replace(['spring'],2)#df['season']=df['season'].replace(['summer'],3)\n",
      "<ipython-input-42-25149d83ac0b>:9: SettingWithCopyWarning: \n",
      "A value is trying to be set on a copy of a slice from a DataFrame.\n",
      "Try using .loc[row_indexer,col_indexer] = value instead\n",
      "\n",
      "See the caveats in the documentation: https://pandas.pydata.org/pandas-docs/stable/user_guide/indexing.html#returning-a-view-versus-a-copy\n",
      "  df['season']=df['season'].replace(['winter'],4)\n",
      "<ipython-input-42-25149d83ac0b>:10: SettingWithCopyWarning: \n",
      "A value is trying to be set on a copy of a slice from a DataFrame.\n",
      "Try using .loc[row_indexer,col_indexer] = value instead\n",
      "\n",
      "See the caveats in the documentation: https://pandas.pydata.org/pandas-docs/stable/user_guide/indexing.html#returning-a-view-versus-a-copy\n",
      "  df['weather']=df['weekdays'].replace(['Clear or partly cloudy'],1)\n",
      "<ipython-input-42-25149d83ac0b>:11: SettingWithCopyWarning: \n",
      "A value is trying to be set on a copy of a slice from a DataFrame.\n",
      "Try using .loc[row_indexer,col_indexer] = value instead\n",
      "\n",
      "See the caveats in the documentation: https://pandas.pydata.org/pandas-docs/stable/user_guide/indexing.html#returning-a-view-versus-a-copy\n",
      "  df['weather']=df['weekdays'].replace(['Mist'],2)\n",
      "<ipython-input-42-25149d83ac0b>:12: SettingWithCopyWarning: \n",
      "A value is trying to be set on a copy of a slice from a DataFrame.\n",
      "Try using .loc[row_indexer,col_indexer] = value instead\n",
      "\n",
      "See the caveats in the documentation: https://pandas.pydata.org/pandas-docs/stable/user_guide/indexing.html#returning-a-view-versus-a-copy\n",
      "  df['weather']=df['weekdays'].replace(['Light snow or rain'],3)\n",
      "<ipython-input-42-25149d83ac0b>:13: SettingWithCopyWarning: \n",
      "A value is trying to be set on a copy of a slice from a DataFrame.\n",
      "Try using .loc[row_indexer,col_indexer] = value instead\n",
      "\n",
      "See the caveats in the documentation: https://pandas.pydata.org/pandas-docs/stable/user_guide/indexing.html#returning-a-view-versus-a-copy\n",
      "  df['weather']=df['weekdays'].replace(['heavy rain/ice pellets/snow + fog'],4)\n"
     ]
    }
   ],
   "source": [
    "df['workingday']=df['workingday'].apply(lambda x : 1 if (x =='Yes') else(0))\n",
    "df['holiday']=df['holiday'].apply(lambda x : 1 if (x =='Yes') else(0))\n",
    "df['season']=df['season'].replace(['fall'],1)\n",
    "df['season']=df['season'].replace(['summer'],1)\n",
    "#encoder = OneHotEncoder(sparse=False)\n",
    "# transform data\n",
    "#onehot = encoder.fit_transform(data['weather'])\n",
    "df['season']=df['season'].replace(['spring'],2)#df['season']=df['season'].replace(['summer'],3)\n",
    "df['season']=df['season'].replace(['winter'],4)\n",
    "df['weather']=df['weekdays'].replace(['Clear or partly cloudy'],1)\n",
    "df['weather']=df['weekdays'].replace(['Mist'],2)\n",
    "df['weather']=df['weekdays'].replace(['Light snow or rain'],3)\n",
    "df['weather']=df['weekdays'].replace(['heavy rain/ice pellets/snow + fog'],4)\n",
    "\n"
   ]
  },
  {
   "cell_type": "code",
   "execution_count": 43,
   "metadata": {
    "colab": {
     "base_uri": "https://localhost:8080/",
     "height": 779
    },
    "id": "tZJsgjf1PJO5",
    "outputId": "1ae23025-2c5a-48e4-dae6-c801077f2bb6"
   },
   "outputs": [
    {
     "data": {
      "text/html": [
       "<div>\n",
       "<style scoped>\n",
       "    .dataframe tbody tr th:only-of-type {\n",
       "        vertical-align: middle;\n",
       "    }\n",
       "\n",
       "    .dataframe tbody tr th {\n",
       "        vertical-align: top;\n",
       "    }\n",
       "\n",
       "    .dataframe thead th {\n",
       "        text-align: right;\n",
       "    }\n",
       "</style>\n",
       "<table border=\"1\" class=\"dataframe\">\n",
       "  <thead>\n",
       "    <tr style=\"text-align: right;\">\n",
       "      <th></th>\n",
       "      <th>id</th>\n",
       "      <th>timestamp</th>\n",
       "      <th>season</th>\n",
       "      <th>holiday</th>\n",
       "      <th>workingday</th>\n",
       "      <th>weather</th>\n",
       "      <th>temp</th>\n",
       "      <th>temp_feel</th>\n",
       "      <th>humidity</th>\n",
       "      <th>windspeed</th>\n",
       "      <th>demand</th>\n",
       "      <th>date</th>\n",
       "      <th>year</th>\n",
       "      <th>hour</th>\n",
       "      <th>weekdays</th>\n",
       "      <th>label_day_night</th>\n",
       "    </tr>\n",
       "  </thead>\n",
       "  <tbody>\n",
       "    <tr>\n",
       "      <th>0</th>\n",
       "      <td>1</td>\n",
       "      <td>2017-01-01 00:00:00</td>\n",
       "      <td>2</td>\n",
       "      <td>0</td>\n",
       "      <td>0</td>\n",
       "      <td>6</td>\n",
       "      <td>9.84</td>\n",
       "      <td>14.395</td>\n",
       "      <td>81.0</td>\n",
       "      <td>0.0000</td>\n",
       "      <td>2.772589</td>\n",
       "      <td>2017-01-01 00:00:00</td>\n",
       "      <td>0</td>\n",
       "      <td>0</td>\n",
       "      <td>6</td>\n",
       "      <td>0</td>\n",
       "    </tr>\n",
       "    <tr>\n",
       "      <th>1</th>\n",
       "      <td>2</td>\n",
       "      <td>2017-01-01 01:00:00</td>\n",
       "      <td>2</td>\n",
       "      <td>0</td>\n",
       "      <td>0</td>\n",
       "      <td>6</td>\n",
       "      <td>9.02</td>\n",
       "      <td>13.635</td>\n",
       "      <td>80.0</td>\n",
       "      <td>0.0000</td>\n",
       "      <td>3.688879</td>\n",
       "      <td>2017-01-01 01:00:00</td>\n",
       "      <td>0</td>\n",
       "      <td>1</td>\n",
       "      <td>6</td>\n",
       "      <td>0</td>\n",
       "    </tr>\n",
       "    <tr>\n",
       "      <th>2</th>\n",
       "      <td>3</td>\n",
       "      <td>2017-01-01 02:00:00</td>\n",
       "      <td>2</td>\n",
       "      <td>0</td>\n",
       "      <td>0</td>\n",
       "      <td>6</td>\n",
       "      <td>9.02</td>\n",
       "      <td>13.635</td>\n",
       "      <td>80.0</td>\n",
       "      <td>0.0000</td>\n",
       "      <td>3.465736</td>\n",
       "      <td>2017-01-01 02:00:00</td>\n",
       "      <td>0</td>\n",
       "      <td>2</td>\n",
       "      <td>6</td>\n",
       "      <td>0</td>\n",
       "    </tr>\n",
       "    <tr>\n",
       "      <th>3</th>\n",
       "      <td>4</td>\n",
       "      <td>2017-01-01 03:00:00</td>\n",
       "      <td>2</td>\n",
       "      <td>0</td>\n",
       "      <td>0</td>\n",
       "      <td>6</td>\n",
       "      <td>9.84</td>\n",
       "      <td>14.395</td>\n",
       "      <td>75.0</td>\n",
       "      <td>0.0000</td>\n",
       "      <td>2.564949</td>\n",
       "      <td>2017-01-01 03:00:00</td>\n",
       "      <td>0</td>\n",
       "      <td>3</td>\n",
       "      <td>6</td>\n",
       "      <td>0</td>\n",
       "    </tr>\n",
       "    <tr>\n",
       "      <th>4</th>\n",
       "      <td>5</td>\n",
       "      <td>2017-01-01 04:00:00</td>\n",
       "      <td>2</td>\n",
       "      <td>0</td>\n",
       "      <td>0</td>\n",
       "      <td>6</td>\n",
       "      <td>9.84</td>\n",
       "      <td>14.395</td>\n",
       "      <td>75.0</td>\n",
       "      <td>0.0000</td>\n",
       "      <td>0.000000</td>\n",
       "      <td>2017-01-01 04:00:00</td>\n",
       "      <td>0</td>\n",
       "      <td>4</td>\n",
       "      <td>6</td>\n",
       "      <td>0</td>\n",
       "    </tr>\n",
       "    <tr>\n",
       "      <th>...</th>\n",
       "      <td>...</td>\n",
       "      <td>...</td>\n",
       "      <td>...</td>\n",
       "      <td>...</td>\n",
       "      <td>...</td>\n",
       "      <td>...</td>\n",
       "      <td>...</td>\n",
       "      <td>...</td>\n",
       "      <td>...</td>\n",
       "      <td>...</td>\n",
       "      <td>...</td>\n",
       "      <td>...</td>\n",
       "      <td>...</td>\n",
       "      <td>...</td>\n",
       "      <td>...</td>\n",
       "      <td>...</td>\n",
       "    </tr>\n",
       "    <tr>\n",
       "      <th>8703</th>\n",
       "      <td>8704</td>\n",
       "      <td>2018-08-05 00:00:00</td>\n",
       "      <td>1</td>\n",
       "      <td>0</td>\n",
       "      <td>0</td>\n",
       "      <td>6</td>\n",
       "      <td>30.34</td>\n",
       "      <td>34.850</td>\n",
       "      <td>70.0</td>\n",
       "      <td>19.0012</td>\n",
       "      <td>5.030438</td>\n",
       "      <td>2018-08-05 00:00:00</td>\n",
       "      <td>1</td>\n",
       "      <td>0</td>\n",
       "      <td>6</td>\n",
       "      <td>0</td>\n",
       "    </tr>\n",
       "    <tr>\n",
       "      <th>8704</th>\n",
       "      <td>8705</td>\n",
       "      <td>2018-08-05 01:00:00</td>\n",
       "      <td>1</td>\n",
       "      <td>0</td>\n",
       "      <td>0</td>\n",
       "      <td>6</td>\n",
       "      <td>30.34</td>\n",
       "      <td>34.850</td>\n",
       "      <td>70.0</td>\n",
       "      <td>16.9979</td>\n",
       "      <td>4.465908</td>\n",
       "      <td>2018-08-05 01:00:00</td>\n",
       "      <td>1</td>\n",
       "      <td>1</td>\n",
       "      <td>6</td>\n",
       "      <td>0</td>\n",
       "    </tr>\n",
       "    <tr>\n",
       "      <th>8705</th>\n",
       "      <td>8706</td>\n",
       "      <td>2018-08-05 02:00:00</td>\n",
       "      <td>1</td>\n",
       "      <td>0</td>\n",
       "      <td>0</td>\n",
       "      <td>6</td>\n",
       "      <td>30.34</td>\n",
       "      <td>34.850</td>\n",
       "      <td>70.0</td>\n",
       "      <td>19.9995</td>\n",
       "      <td>4.290459</td>\n",
       "      <td>2018-08-05 02:00:00</td>\n",
       "      <td>1</td>\n",
       "      <td>2</td>\n",
       "      <td>6</td>\n",
       "      <td>0</td>\n",
       "    </tr>\n",
       "    <tr>\n",
       "      <th>8706</th>\n",
       "      <td>8707</td>\n",
       "      <td>2018-08-05 03:00:00</td>\n",
       "      <td>1</td>\n",
       "      <td>0</td>\n",
       "      <td>0</td>\n",
       "      <td>6</td>\n",
       "      <td>29.52</td>\n",
       "      <td>34.850</td>\n",
       "      <td>74.0</td>\n",
       "      <td>16.9979</td>\n",
       "      <td>3.713572</td>\n",
       "      <td>2018-08-05 03:00:00</td>\n",
       "      <td>1</td>\n",
       "      <td>3</td>\n",
       "      <td>6</td>\n",
       "      <td>0</td>\n",
       "    </tr>\n",
       "    <tr>\n",
       "      <th>8707</th>\n",
       "      <td>8708</td>\n",
       "      <td>2018-08-05 04:00:00</td>\n",
       "      <td>1</td>\n",
       "      <td>0</td>\n",
       "      <td>0</td>\n",
       "      <td>6</td>\n",
       "      <td>29.52</td>\n",
       "      <td>34.850</td>\n",
       "      <td>74.0</td>\n",
       "      <td>16.9979</td>\n",
       "      <td>2.639057</td>\n",
       "      <td>2018-08-05 04:00:00</td>\n",
       "      <td>1</td>\n",
       "      <td>4</td>\n",
       "      <td>6</td>\n",
       "      <td>0</td>\n",
       "    </tr>\n",
       "  </tbody>\n",
       "</table>\n",
       "<p>8648 rows × 16 columns</p>\n",
       "</div>"
      ],
      "text/plain": [
       "        id            timestamp  season  holiday  workingday  weather   temp  \\\n",
       "0        1  2017-01-01 00:00:00       2        0           0        6   9.84   \n",
       "1        2  2017-01-01 01:00:00       2        0           0        6   9.02   \n",
       "2        3  2017-01-01 02:00:00       2        0           0        6   9.02   \n",
       "3        4  2017-01-01 03:00:00       2        0           0        6   9.84   \n",
       "4        5  2017-01-01 04:00:00       2        0           0        6   9.84   \n",
       "...    ...                  ...     ...      ...         ...      ...    ...   \n",
       "8703  8704  2018-08-05 00:00:00       1        0           0        6  30.34   \n",
       "8704  8705  2018-08-05 01:00:00       1        0           0        6  30.34   \n",
       "8705  8706  2018-08-05 02:00:00       1        0           0        6  30.34   \n",
       "8706  8707  2018-08-05 03:00:00       1        0           0        6  29.52   \n",
       "8707  8708  2018-08-05 04:00:00       1        0           0        6  29.52   \n",
       "\n",
       "      temp_feel  humidity  windspeed    demand                date year  hour  \\\n",
       "0        14.395      81.0     0.0000  2.772589 2017-01-01 00:00:00    0     0   \n",
       "1        13.635      80.0     0.0000  3.688879 2017-01-01 01:00:00    0     1   \n",
       "2        13.635      80.0     0.0000  3.465736 2017-01-01 02:00:00    0     2   \n",
       "3        14.395      75.0     0.0000  2.564949 2017-01-01 03:00:00    0     3   \n",
       "4        14.395      75.0     0.0000  0.000000 2017-01-01 04:00:00    0     4   \n",
       "...         ...       ...        ...       ...                 ...  ...   ...   \n",
       "8703     34.850      70.0    19.0012  5.030438 2018-08-05 00:00:00    1     0   \n",
       "8704     34.850      70.0    16.9979  4.465908 2018-08-05 01:00:00    1     1   \n",
       "8705     34.850      70.0    19.9995  4.290459 2018-08-05 02:00:00    1     2   \n",
       "8706     34.850      74.0    16.9979  3.713572 2018-08-05 03:00:00    1     3   \n",
       "8707     34.850      74.0    16.9979  2.639057 2018-08-05 04:00:00    1     4   \n",
       "\n",
       "      weekdays  label_day_night  \n",
       "0            6                0  \n",
       "1            6                0  \n",
       "2            6                0  \n",
       "3            6                0  \n",
       "4            6                0  \n",
       "...        ...              ...  \n",
       "8703         6                0  \n",
       "8704         6                0  \n",
       "8705         6                0  \n",
       "8706         6                0  \n",
       "8707         6                0  \n",
       "\n",
       "[8648 rows x 16 columns]"
      ]
     },
     "execution_count": 43,
     "metadata": {},
     "output_type": "execute_result"
    }
   ],
   "source": [
    "df"
   ]
  },
  {
   "cell_type": "code",
   "execution_count": 44,
   "metadata": {
    "colab": {
     "base_uri": "https://localhost:8080/",
     "height": 472
    },
    "id": "_DJlKgD_Psxb",
    "outputId": "f8d5bd62-5a63-43d9-87d8-638186395168"
   },
   "outputs": [
    {
     "data": {
      "text/html": [
       "<div>\n",
       "<style scoped>\n",
       "    .dataframe tbody tr th:only-of-type {\n",
       "        vertical-align: middle;\n",
       "    }\n",
       "\n",
       "    .dataframe tbody tr th {\n",
       "        vertical-align: top;\n",
       "    }\n",
       "\n",
       "    .dataframe thead th {\n",
       "        text-align: right;\n",
       "    }\n",
       "</style>\n",
       "<table border=\"1\" class=\"dataframe\">\n",
       "  <thead>\n",
       "    <tr style=\"text-align: right;\">\n",
       "      <th></th>\n",
       "      <th>id</th>\n",
       "      <th>season</th>\n",
       "      <th>holiday</th>\n",
       "      <th>workingday</th>\n",
       "      <th>weather</th>\n",
       "      <th>temp</th>\n",
       "      <th>temp_feel</th>\n",
       "      <th>humidity</th>\n",
       "      <th>windspeed</th>\n",
       "      <th>demand</th>\n",
       "      <th>hour</th>\n",
       "      <th>weekdays</th>\n",
       "      <th>label_day_night</th>\n",
       "    </tr>\n",
       "  </thead>\n",
       "  <tbody>\n",
       "    <tr>\n",
       "      <th>id</th>\n",
       "      <td>1.000000</td>\n",
       "      <td>-0.040092</td>\n",
       "      <td>0.004158</td>\n",
       "      <td>0.001538</td>\n",
       "      <td>-0.004449</td>\n",
       "      <td>0.275912</td>\n",
       "      <td>0.287319</td>\n",
       "      <td>-0.054140</td>\n",
       "      <td>-0.066383</td>\n",
       "      <td>0.226754</td>\n",
       "      <td>-0.006367</td>\n",
       "      <td>-0.004449</td>\n",
       "      <td>-0.007184</td>\n",
       "    </tr>\n",
       "    <tr>\n",
       "      <th>season</th>\n",
       "      <td>-0.040092</td>\n",
       "      <td>1.000000</td>\n",
       "      <td>0.019700</td>\n",
       "      <td>-0.018311</td>\n",
       "      <td>0.015769</td>\n",
       "      <td>-0.486318</td>\n",
       "      <td>-0.455678</td>\n",
       "      <td>0.067569</td>\n",
       "      <td>-0.040368</td>\n",
       "      <td>-0.098831</td>\n",
       "      <td>0.001574</td>\n",
       "      <td>0.015769</td>\n",
       "      <td>0.001808</td>\n",
       "    </tr>\n",
       "    <tr>\n",
       "      <th>holiday</th>\n",
       "      <td>0.004158</td>\n",
       "      <td>0.019700</td>\n",
       "      <td>1.000000</td>\n",
       "      <td>-0.247418</td>\n",
       "      <td>-0.101960</td>\n",
       "      <td>-0.007815</td>\n",
       "      <td>-0.015099</td>\n",
       "      <td>-0.025174</td>\n",
       "      <td>0.015210</td>\n",
       "      <td>-0.000950</td>\n",
       "      <td>-0.000831</td>\n",
       "      <td>-0.101960</td>\n",
       "      <td>0.001355</td>\n",
       "    </tr>\n",
       "    <tr>\n",
       "      <th>workingday</th>\n",
       "      <td>0.001538</td>\n",
       "      <td>-0.018311</td>\n",
       "      <td>-0.247418</td>\n",
       "      <td>1.000000</td>\n",
       "      <td>-0.175691</td>\n",
       "      <td>0.026022</td>\n",
       "      <td>0.031648</td>\n",
       "      <td>0.008520</td>\n",
       "      <td>0.005965</td>\n",
       "      <td>-0.019647</td>\n",
       "      <td>0.004580</td>\n",
       "      <td>-0.175691</td>\n",
       "      <td>0.005082</td>\n",
       "    </tr>\n",
       "    <tr>\n",
       "      <th>weather</th>\n",
       "      <td>-0.004449</td>\n",
       "      <td>0.015769</td>\n",
       "      <td>-0.101960</td>\n",
       "      <td>-0.175691</td>\n",
       "      <td>1.000000</td>\n",
       "      <td>-0.025411</td>\n",
       "      <td>-0.023689</td>\n",
       "      <td>-0.040667</td>\n",
       "      <td>-0.020899</td>\n",
       "      <td>0.031570</td>\n",
       "      <td>-0.003187</td>\n",
       "      <td>1.000000</td>\n",
       "      <td>-0.003965</td>\n",
       "    </tr>\n",
       "    <tr>\n",
       "      <th>temp</th>\n",
       "      <td>0.275912</td>\n",
       "      <td>-0.486318</td>\n",
       "      <td>-0.007815</td>\n",
       "      <td>0.026022</td>\n",
       "      <td>-0.025411</td>\n",
       "      <td>1.000000</td>\n",
       "      <td>0.964019</td>\n",
       "      <td>-0.055384</td>\n",
       "      <td>-0.023598</td>\n",
       "      <td>0.373203</td>\n",
       "      <td>0.125191</td>\n",
       "      <td>-0.025411</td>\n",
       "      <td>0.093505</td>\n",
       "    </tr>\n",
       "    <tr>\n",
       "      <th>temp_feel</th>\n",
       "      <td>0.287319</td>\n",
       "      <td>-0.455678</td>\n",
       "      <td>-0.015099</td>\n",
       "      <td>0.031648</td>\n",
       "      <td>-0.023689</td>\n",
       "      <td>0.964019</td>\n",
       "      <td>1.000000</td>\n",
       "      <td>-0.051235</td>\n",
       "      <td>-0.058714</td>\n",
       "      <td>0.389740</td>\n",
       "      <td>0.138790</td>\n",
       "      <td>-0.023689</td>\n",
       "      <td>0.094170</td>\n",
       "    </tr>\n",
       "    <tr>\n",
       "      <th>humidity</th>\n",
       "      <td>-0.054140</td>\n",
       "      <td>0.067569</td>\n",
       "      <td>-0.025174</td>\n",
       "      <td>0.008520</td>\n",
       "      <td>-0.040667</td>\n",
       "      <td>-0.055384</td>\n",
       "      <td>-0.051235</td>\n",
       "      <td>1.000000</td>\n",
       "      <td>-0.304326</td>\n",
       "      <td>-0.331957</td>\n",
       "      <td>-0.277619</td>\n",
       "      <td>-0.040667</td>\n",
       "      <td>-0.228547</td>\n",
       "    </tr>\n",
       "    <tr>\n",
       "      <th>windspeed</th>\n",
       "      <td>-0.066383</td>\n",
       "      <td>-0.040368</td>\n",
       "      <td>0.015210</td>\n",
       "      <td>0.005965</td>\n",
       "      <td>-0.020899</td>\n",
       "      <td>-0.023598</td>\n",
       "      <td>-0.058714</td>\n",
       "      <td>-0.304326</td>\n",
       "      <td>1.000000</td>\n",
       "      <td>0.123095</td>\n",
       "      <td>0.147257</td>\n",
       "      <td>-0.020899</td>\n",
       "      <td>0.161741</td>\n",
       "    </tr>\n",
       "    <tr>\n",
       "      <th>demand</th>\n",
       "      <td>0.226754</td>\n",
       "      <td>-0.098831</td>\n",
       "      <td>-0.000950</td>\n",
       "      <td>-0.019647</td>\n",
       "      <td>0.031570</td>\n",
       "      <td>0.373203</td>\n",
       "      <td>0.389740</td>\n",
       "      <td>-0.331957</td>\n",
       "      <td>0.123095</td>\n",
       "      <td>1.000000</td>\n",
       "      <td>0.568427</td>\n",
       "      <td>0.031570</td>\n",
       "      <td>0.554084</td>\n",
       "    </tr>\n",
       "    <tr>\n",
       "      <th>hour</th>\n",
       "      <td>-0.006367</td>\n",
       "      <td>0.001574</td>\n",
       "      <td>-0.000831</td>\n",
       "      <td>0.004580</td>\n",
       "      <td>-0.003187</td>\n",
       "      <td>0.125191</td>\n",
       "      <td>0.138790</td>\n",
       "      <td>-0.277619</td>\n",
       "      <td>0.147257</td>\n",
       "      <td>0.568427</td>\n",
       "      <td>1.000000</td>\n",
       "      <td>-0.003187</td>\n",
       "      <td>0.197231</td>\n",
       "    </tr>\n",
       "    <tr>\n",
       "      <th>weekdays</th>\n",
       "      <td>-0.004449</td>\n",
       "      <td>0.015769</td>\n",
       "      <td>-0.101960</td>\n",
       "      <td>-0.175691</td>\n",
       "      <td>1.000000</td>\n",
       "      <td>-0.025411</td>\n",
       "      <td>-0.023689</td>\n",
       "      <td>-0.040667</td>\n",
       "      <td>-0.020899</td>\n",
       "      <td>0.031570</td>\n",
       "      <td>-0.003187</td>\n",
       "      <td>1.000000</td>\n",
       "      <td>-0.003965</td>\n",
       "    </tr>\n",
       "    <tr>\n",
       "      <th>label_day_night</th>\n",
       "      <td>-0.007184</td>\n",
       "      <td>0.001808</td>\n",
       "      <td>0.001355</td>\n",
       "      <td>0.005082</td>\n",
       "      <td>-0.003965</td>\n",
       "      <td>0.093505</td>\n",
       "      <td>0.094170</td>\n",
       "      <td>-0.228547</td>\n",
       "      <td>0.161741</td>\n",
       "      <td>0.554084</td>\n",
       "      <td>0.197231</td>\n",
       "      <td>-0.003965</td>\n",
       "      <td>1.000000</td>\n",
       "    </tr>\n",
       "  </tbody>\n",
       "</table>\n",
       "</div>"
      ],
      "text/plain": [
       "                       id    season   holiday  workingday   weather      temp  \\\n",
       "id               1.000000 -0.040092  0.004158    0.001538 -0.004449  0.275912   \n",
       "season          -0.040092  1.000000  0.019700   -0.018311  0.015769 -0.486318   \n",
       "holiday          0.004158  0.019700  1.000000   -0.247418 -0.101960 -0.007815   \n",
       "workingday       0.001538 -0.018311 -0.247418    1.000000 -0.175691  0.026022   \n",
       "weather         -0.004449  0.015769 -0.101960   -0.175691  1.000000 -0.025411   \n",
       "temp             0.275912 -0.486318 -0.007815    0.026022 -0.025411  1.000000   \n",
       "temp_feel        0.287319 -0.455678 -0.015099    0.031648 -0.023689  0.964019   \n",
       "humidity        -0.054140  0.067569 -0.025174    0.008520 -0.040667 -0.055384   \n",
       "windspeed       -0.066383 -0.040368  0.015210    0.005965 -0.020899 -0.023598   \n",
       "demand           0.226754 -0.098831 -0.000950   -0.019647  0.031570  0.373203   \n",
       "hour            -0.006367  0.001574 -0.000831    0.004580 -0.003187  0.125191   \n",
       "weekdays        -0.004449  0.015769 -0.101960   -0.175691  1.000000 -0.025411   \n",
       "label_day_night -0.007184  0.001808  0.001355    0.005082 -0.003965  0.093505   \n",
       "\n",
       "                 temp_feel  humidity  windspeed    demand      hour  weekdays  \\\n",
       "id                0.287319 -0.054140  -0.066383  0.226754 -0.006367 -0.004449   \n",
       "season           -0.455678  0.067569  -0.040368 -0.098831  0.001574  0.015769   \n",
       "holiday          -0.015099 -0.025174   0.015210 -0.000950 -0.000831 -0.101960   \n",
       "workingday        0.031648  0.008520   0.005965 -0.019647  0.004580 -0.175691   \n",
       "weather          -0.023689 -0.040667  -0.020899  0.031570 -0.003187  1.000000   \n",
       "temp              0.964019 -0.055384  -0.023598  0.373203  0.125191 -0.025411   \n",
       "temp_feel         1.000000 -0.051235  -0.058714  0.389740  0.138790 -0.023689   \n",
       "humidity         -0.051235  1.000000  -0.304326 -0.331957 -0.277619 -0.040667   \n",
       "windspeed        -0.058714 -0.304326   1.000000  0.123095  0.147257 -0.020899   \n",
       "demand            0.389740 -0.331957   0.123095  1.000000  0.568427  0.031570   \n",
       "hour              0.138790 -0.277619   0.147257  0.568427  1.000000 -0.003187   \n",
       "weekdays         -0.023689 -0.040667  -0.020899  0.031570 -0.003187  1.000000   \n",
       "label_day_night   0.094170 -0.228547   0.161741  0.554084  0.197231 -0.003965   \n",
       "\n",
       "                 label_day_night  \n",
       "id                     -0.007184  \n",
       "season                  0.001808  \n",
       "holiday                 0.001355  \n",
       "workingday              0.005082  \n",
       "weather                -0.003965  \n",
       "temp                    0.093505  \n",
       "temp_feel               0.094170  \n",
       "humidity               -0.228547  \n",
       "windspeed               0.161741  \n",
       "demand                  0.554084  \n",
       "hour                    0.197231  \n",
       "weekdays               -0.003965  \n",
       "label_day_night         1.000000  "
      ]
     },
     "execution_count": 44,
     "metadata": {},
     "output_type": "execute_result"
    }
   ],
   "source": [
    "df_corr=df.corr()\n",
    "df_corr"
   ]
  },
  {
   "cell_type": "code",
   "execution_count": 45,
   "metadata": {
    "colab": {
     "base_uri": "https://localhost:8080/",
     "height": 578
    },
    "id": "oDb248hCPxRm",
    "outputId": "f9875d52-964b-4dad-8dfb-89733f6125ad"
   },
   "outputs": [
    {
     "data": {
      "image/png": "[encoded data removed]",
      "text/plain": [
       "<Figure size 720x720 with 2 Axes>"
      ]
     },
     "metadata": {
      "needs_background": "light"
     },
     "output_type": "display_data"
    }
   ],
   "source": [
    "plt.figure(figsize=(10,10))\n",
    "sns.heatmap(data_corr, annot=True, cmap='cubehelix_r',square=True) \n",
    "plt.show()"
   ]
  },
  {
   "cell_type": "markdown",
   "metadata": {
    "id": "7CYKR0bRPMAW"
   },
   "source": [
    "Now we have all the required data in numeric form, We can now implement different modeling technique to determine better accuracy. But before that lets see if adding these extra features has any impact on data or not by takingcorrelation of data again"
   ]
  },
  {
   "cell_type": "markdown",
   "metadata": {
    "id": "ymsdDaIPIKSX"
   },
   "source": [
    "## Visualization, Modeling, Machine Learning\n",
    "\n",
    "Build a model that can predict hourly demand and identify how different features influence the decision. Please explain the findings effectively to technical and non-technical audiences using comments and visualizations, if appropriate.\n",
    "- **Build an optimized model that effectively solves the business problem.**\n",
    "- **The model will be evaluated on the basis of mean absolute error.**\n",
    "- **Read the test.csv file and prepare features for testing.**"
   ]
  },
  {
   "cell_type": "code",
   "execution_count": 48,
   "metadata": {
    "colab": {
     "base_uri": "https://localhost:8080/",
     "height": 204
    },
    "id": "Hsxh3SMgIKSY",
    "outputId": "056bd3a9-f24a-448a-b112-5e109e9d17e2"
   },
   "outputs": [
    {
     "data": {
      "text/html": [
       "<div>\n",
       "<style scoped>\n",
       "    .dataframe tbody tr th:only-of-type {\n",
       "        vertical-align: middle;\n",
       "    }\n",
       "\n",
       "    .dataframe tbody tr th {\n",
       "        vertical-align: top;\n",
       "    }\n",
       "\n",
       "    .dataframe thead th {\n",
       "        text-align: right;\n",
       "    }\n",
       "</style>\n",
       "<table border=\"1\" class=\"dataframe\">\n",
       "  <thead>\n",
       "    <tr style=\"text-align: right;\">\n",
       "      <th></th>\n",
       "      <th>id</th>\n",
       "      <th>timestamp</th>\n",
       "      <th>season</th>\n",
       "      <th>holiday</th>\n",
       "      <th>workingday</th>\n",
       "      <th>weather</th>\n",
       "      <th>temp</th>\n",
       "      <th>temp_feel</th>\n",
       "      <th>humidity</th>\n",
       "      <th>windspeed</th>\n",
       "    </tr>\n",
       "  </thead>\n",
       "  <tbody>\n",
       "    <tr>\n",
       "      <th>0</th>\n",
       "      <td>8709</td>\n",
       "      <td>2018-08-05 05:00:00</td>\n",
       "      <td>fall</td>\n",
       "      <td>No</td>\n",
       "      <td>No</td>\n",
       "      <td>Clear or partly cloudy</td>\n",
       "      <td>29.52</td>\n",
       "      <td>34.850</td>\n",
       "      <td>74.0</td>\n",
       "      <td>16.9979</td>\n",
       "    </tr>\n",
       "    <tr>\n",
       "      <th>1</th>\n",
       "      <td>8710</td>\n",
       "      <td>2018-08-05 06:00:00</td>\n",
       "      <td>fall</td>\n",
       "      <td>No</td>\n",
       "      <td>No</td>\n",
       "      <td>Clear or partly cloudy</td>\n",
       "      <td>29.52</td>\n",
       "      <td>34.850</td>\n",
       "      <td>79.0</td>\n",
       "      <td>16.9979</td>\n",
       "    </tr>\n",
       "    <tr>\n",
       "      <th>2</th>\n",
       "      <td>8712</td>\n",
       "      <td>2018-08-05 08:00:00</td>\n",
       "      <td>fall</td>\n",
       "      <td>No</td>\n",
       "      <td>No</td>\n",
       "      <td>Clear or partly cloudy</td>\n",
       "      <td>31.16</td>\n",
       "      <td>36.365</td>\n",
       "      <td>66.0</td>\n",
       "      <td>22.0028</td>\n",
       "    </tr>\n",
       "    <tr>\n",
       "      <th>3</th>\n",
       "      <td>8713</td>\n",
       "      <td>2018-08-05 09:00:00</td>\n",
       "      <td>fall</td>\n",
       "      <td>No</td>\n",
       "      <td>No</td>\n",
       "      <td>Clear or partly cloudy</td>\n",
       "      <td>32.80</td>\n",
       "      <td>38.635</td>\n",
       "      <td>59.0</td>\n",
       "      <td>23.9994</td>\n",
       "    </tr>\n",
       "    <tr>\n",
       "      <th>4</th>\n",
       "      <td>8714</td>\n",
       "      <td>2018-08-05 10:00:00</td>\n",
       "      <td>fall</td>\n",
       "      <td>No</td>\n",
       "      <td>No</td>\n",
       "      <td>Clear or partly cloudy</td>\n",
       "      <td>32.80</td>\n",
       "      <td>38.635</td>\n",
       "      <td>59.0</td>\n",
       "      <td>27.9993</td>\n",
       "    </tr>\n",
       "  </tbody>\n",
       "</table>\n",
       "</div>"
      ],
      "text/plain": [
       "     id            timestamp season holiday workingday  \\\n",
       "0  8709  2018-08-05 05:00:00   fall      No         No   \n",
       "1  8710  2018-08-05 06:00:00   fall      No         No   \n",
       "2  8712  2018-08-05 08:00:00   fall      No         No   \n",
       "3  8713  2018-08-05 09:00:00   fall      No         No   \n",
       "4  8714  2018-08-05 10:00:00   fall      No         No   \n",
       "\n",
       "                  weather   temp  temp_feel  humidity  windspeed  \n",
       "0  Clear or partly cloudy  29.52     34.850      74.0    16.9979  \n",
       "1  Clear or partly cloudy  29.52     34.850      79.0    16.9979  \n",
       "2  Clear or partly cloudy  31.16     36.365      66.0    22.0028  \n",
       "3  Clear or partly cloudy  32.80     38.635      59.0    23.9994  \n",
       "4  Clear or partly cloudy  32.80     38.635      59.0    27.9993  "
      ]
     },
     "execution_count": 48,
     "metadata": {},
     "output_type": "execute_result"
    }
   ],
   "source": [
    "#Loading Test data\n",
    "test_data=pd.read_csv('test.csv')\n",
    "test_data.head()"
   ]
  },
  {
   "cell_type": "code",
   "execution_count": 49,
   "metadata": {
    "colab": {
     "base_uri": "https://localhost:8080/",
     "height": 295
    },
    "id": "P-8T2VeEP89U",
    "outputId": "96b2b453-1b0a-4369-dd11-de1aed16b01e"
   },
   "outputs": [
    {
     "data": {
      "text/plain": [
       "<AxesSubplot:xlabel='date'>"
      ]
     },
     "execution_count": 49,
     "metadata": {},
     "output_type": "execute_result"
    },
    {
     "data": {
      "image/png": "[encoded data removed]",
      "text/plain": [
       "<Figure size 432x288 with 1 Axes>"
      ]
     },
     "metadata": {
      "needs_background": "light"
     },
     "output_type": "display_data"
    }
   ],
   "source": [
    "df.plot(x='date',y='demand',kind='line')\n"
   ]
  },
  {
   "cell_type": "markdown",
   "metadata": {
    "id": "3xskxRqwQKRk"
   },
   "source": [
    "Now lets use different modeling to find the better accuracy"
   ]
  },
  {
   "cell_type": "markdown",
   "metadata": {
    "id": "_ggnd_FKQQbQ"
   },
   "source": [
    "# Linear Modeling"
   ]
  },
  {
   "cell_type": "code",
   "execution_count": 50,
   "metadata": {
    "id": "73vBzp7lIKSf"
   },
   "outputs": [],
   "source": [
    "from sklearn.model_selection import train_test_split\n",
    "from sklearn import preprocessing\n",
    "from sklearn import linear_model\n",
    "from sklearn.metrics import r2_score,mean_squared_error\n",
    "from sklearn.linear_model import Ridge\n",
    "from sklearn.model_selection import GridSearchCV\n",
    "from sklearn.linear_model import Lasso \n",
    "from sklearn.ensemble import RandomForestRegressor\n",
    "  "
   ]
  },
  {
   "cell_type": "code",
   "execution_count": 51,
   "metadata": {
    "colab": {
     "base_uri": "https://localhost:8080/"
    },
    "id": "uc_IBZoVP89U",
    "outputId": "ab537754-138a-40fd-a311-819260c099f2"
   },
   "outputs": [
    {
     "data": {
      "text/plain": [
       "Index(['id', 'timestamp', 'season', 'holiday', 'workingday', 'weather', 'temp',\n",
       "       'temp_feel', 'humidity', 'windspeed', 'demand', 'date', 'year', 'hour',\n",
       "       'weekdays', 'label_day_night'],\n",
       "      dtype='object')"
      ]
     },
     "execution_count": 51,
     "metadata": {},
     "output_type": "execute_result"
    }
   ],
   "source": [
    "df.columns"
   ]
  },
  {
   "cell_type": "code",
   "execution_count": 52,
   "metadata": {
    "id": "O9JzKLB6P89V"
   },
   "outputs": [],
   "source": [
    "reporting={}\n",
    "X_LinearRegression=df.drop(['timestamp','date','demand','year'],axis =1)\n",
    "y=df.iloc[:,-6]\n",
    "X_train,X_test,y_train,y_test=train_test_split(X_LinearRegression,y,test_size=0.27)"
   ]
  },
  {
   "cell_type": "code",
   "execution_count": 53,
   "metadata": {
    "colab": {
     "base_uri": "https://localhost:8080/"
    },
    "id": "z3o8y_O3P89V",
    "outputId": "07406901-ea7c-471c-d851-ea705e56911a"
   },
   "outputs": [
    {
     "data": {
      "text/plain": [
       "id                 0\n",
       "season             0\n",
       "holiday            0\n",
       "workingday         0\n",
       "weather            0\n",
       "temp               0\n",
       "temp_feel          0\n",
       "humidity           0\n",
       "windspeed          0\n",
       "hour               0\n",
       "weekdays           0\n",
       "label_day_night    0\n",
       "dtype: int64"
      ]
     },
     "execution_count": 53,
     "metadata": {},
     "output_type": "execute_result"
    }
   ],
   "source": [
    "X_train.isna().sum()"
   ]
  },
  {
   "cell_type": "code",
   "execution_count": 54,
   "metadata": {
    "colab": {
     "base_uri": "https://localhost:8080/"
    },
    "id": "v5B2zUg6P89V",
    "outputId": "b20096d6-9fb7-4fa5-d243-706fce9c4792"
   },
   "outputs": [
    {
     "data": {
      "text/plain": [
       "id                 0\n",
       "season             0\n",
       "holiday            0\n",
       "workingday         0\n",
       "weather            0\n",
       "temp               0\n",
       "temp_feel          0\n",
       "humidity           0\n",
       "windspeed          0\n",
       "hour               0\n",
       "weekdays           0\n",
       "label_day_night    0\n",
       "dtype: int64"
      ]
     },
     "execution_count": 54,
     "metadata": {},
     "output_type": "execute_result"
    }
   ],
   "source": [
    "X_test.isna().sum()"
   ]
  },
  {
   "cell_type": "code",
   "execution_count": 55,
   "metadata": {
    "id": "fd4tObDmP89V"
   },
   "outputs": [],
   "source": [
    "regr = linear_model.LinearRegression()\n",
    "fitregr=regr.fit(X_train, y_train)\n",
    "predregrtrain=fitregr.predict(X_train)\n",
    "predregrtest=fitregr.predict(X_test)"
   ]
  },
  {
   "cell_type": "code",
   "execution_count": 56,
   "metadata": {
    "colab": {
     "base_uri": "https://localhost:8080/"
    },
    "id": "4TiIRJamP89V",
    "outputId": "ce1e13b3-8eb1-4b42-ce01-242c5583683f"
   },
   "outputs": [
    {
     "name": "stdout",
     "output_type": "stream",
     "text": [
      "Linear model intercept: 1.4071930601867573 and the coefficients are: [ 9.21022884e-05  3.66330473e-02 -2.86304765e-02 -6.28952072e-02\n",
      "  1.32214427e-02  3.13106636e-03  3.97970683e-02 -6.98652869e-03\n",
      " -2.10551047e-03  9.21251370e-02  1.32214427e-02  1.40267746e+00]\n"
     ]
    }
   ],
   "source": [
    "print('Linear model intercept: {} and the coefficients are: {}'\n",
    "     .format(fitregr.intercept_,fitregr.coef_))"
   ]
  },
  {
   "cell_type": "code",
   "execution_count": 57,
   "metadata": {
    "colab": {
     "base_uri": "https://localhost:8080/"
    },
    "id": "Xg3AYBfUP89W",
    "outputId": "1a4d9973-ce4c-438b-9b70-c3f589f06a23"
   },
   "outputs": [
    {
     "name": "stdout",
     "output_type": "stream",
     "text": [
      "Linear model, R2 train score is : 0.6412140289167132\n",
      "Linear model, R2 test score is : 0.6437923316797063\n"
     ]
    }
   ],
   "source": [
    "train_set_r2 = r2_score(y_train, predregrtrain)\n",
    "print('Linear model, R2 train score is : {}'.format(train_set_r2))\n",
    "test_set_r2 = r2_score(y_test, predregrtest)\n",
    "print('Linear model, R2 test score is : {}'.format(test_set_r2))"
   ]
  },
  {
   "cell_type": "markdown",
   "metadata": {
    "id": "0aKAnhrpQY-y"
   },
   "source": [
    "with linear modeling we got accuracy of almost 65% which is not that good as we want little better accuracy, so lets try another model called xgboost\n",
    "\n",
    "---\n",
    "\n"
   ]
  },
  {
   "cell_type": "markdown",
   "metadata": {
    "id": "hzaH82X8QpW8"
   },
   "source": [
    "# xgboost technique"
   ]
  },
  {
   "cell_type": "code",
   "execution_count": 58,
   "metadata": {
    "id": "fe2u31uxP89W"
   },
   "outputs": [],
   "source": [
    "import xgboost\n",
    "from xgboost import XGBClassifier\n",
    "from sklearn.model_selection import train_test_split\n",
    "from sklearn.metrics import accuracy_score"
   ]
  },
  {
   "cell_type": "code",
   "execution_count": 71,
   "metadata": {
    "id": "Pb8Pb9CoSpn2"
   },
   "outputs": [],
   "source": [
    "X, y = df.drop(['timestamp','date','demand','year'],axis =1),df.iloc[:,-6]"
   ]
  },
  {
   "cell_type": "code",
   "execution_count": 72,
   "metadata": {
    "id": "fcUE7p0VUUrm"
   },
   "outputs": [],
   "source": [
    "X_train, X_test, y_train, y_test = train_test_split(X, y, test_size=0.2, random_state=123)"
   ]
  },
  {
   "cell_type": "code",
   "execution_count": 73,
   "metadata": {
    "colab": {
     "base_uri": "https://localhost:8080/"
    },
    "id": "h3YNmu1EP89W",
    "outputId": "a7d5394c-fc35-4d3b-f03b-2e33e9f87333"
   },
   "outputs": [
    {
     "name": "stderr",
     "output_type": "stream",
     "text": [
      "/Users/musubimanagement/opt/anaconda3/lib/python3.8/site-packages/xgboost/sklearn.py:888: UserWarning: The use of label encoder in XGBClassifier is deprecated and will be removed in a future release. To remove this warning, do the following: 1) Pass option use_label_encoder=False when constructing XGBClassifier object; and 2) Encode your labels (y) as integers starting with 0, i.e. 0, 1, 2, ..., [num_class - 1].\n",
      "  warnings.warn(label_encoder_deprecation_msg, UserWarning)\n"
     ]
    },
    {
     "name": "stdout",
     "output_type": "stream",
     "text": [
      "[13:27:49] WARNING: /opt/concourse/worker/volumes/live/7a2b9f41-3287-451b-6691-43e9a6c0910f/volume/xgboost-split_1619728204606/work/src/learner.cc:1061: Starting in XGBoost 1.3.0, the default evaluation metric used with the objective 'multi:softprob' was changed from 'merror' to 'mlogloss'. Explicitly set eval_metric if you'd like to restore the old behavior.\n"
     ]
    },
    {
     "data": {
      "text/plain": [
       "XGBClassifier(base_score=0.5, booster='gbtree', colsample_bylevel=1,\n",
       "              colsample_bynode=1, colsample_bytree=1, gamma=0, gpu_id=-1,\n",
       "              importance_type='gain', interaction_constraints='',\n",
       "              learning_rate=0.300000012, max_delta_step=0, max_depth=6,\n",
       "              min_child_weight=1, missing=nan, monotone_constraints='()',\n",
       "              n_estimators=100, n_jobs=4, num_parallel_tree=1,\n",
       "              objective='multi:softprob', random_state=0, reg_alpha=0,\n",
       "              reg_lambda=1, scale_pos_weight=None, subsample=1,\n",
       "              tree_method='exact', validate_parameters=1, verbosity=None)"
      ]
     },
     "execution_count": 73,
     "metadata": {},
     "output_type": "execute_result"
    }
   ],
   "source": [
    "model = XGBClassifier()\n",
    "model.fit(X_train, y_train)"
   ]
  },
  {
   "cell_type": "code",
   "execution_count": 74,
   "metadata": {
    "id": "FEarT_jSakSQ"
   },
   "outputs": [],
   "source": [
    "y_pred = model.predict(X_test)\n",
    "\n",
    "#predictions = [round(value) for value in y_pred]"
   ]
  },
  {
   "cell_type": "code",
   "execution_count": 63,
   "metadata": {
    "id": "SmJsQjplr4Pc"
   },
   "outputs": [],
   "source": [
    "#y_pred_train=model.predict(X_train)"
   ]
  },
  {
   "cell_type": "code",
   "execution_count": 75,
   "metadata": {
    "colab": {
     "base_uri": "https://localhost:8080/"
    },
    "id": "ZeEwWSW2blSK",
    "outputId": "9eeef9fe-ba65-49a7-9574-68e5d1f3f908"
   },
   "outputs": [
    {
     "name": "stdout",
     "output_type": "stream",
     "text": [
      "xgboost model, R2 test score is : 0.7779518832740522\n"
     ]
    }
   ],
   "source": [
    "#test_set_r2 = r2_score(y_train, y_pred_train)\n",
    "#print('xgboost model, R2 train score is : {}'.format(test_set_r2))\n",
    "test_set_r2 = r2_score(y_test, y_pred)\n",
    "print('xgboost model, R2 test score is : {}'.format(test_set_r2))"
   ]
  },
  {
   "cell_type": "markdown",
   "metadata": {
    "id": "jNDlxLoPQvQ0"
   },
   "source": [
    "Here as we expected we got way better accuracy score in xgboost as compared to linear model. Now lets check wheather any other model gives a better accuracy than xgboost"
   ]
  },
  {
   "cell_type": "markdown",
   "metadata": {
    "id": "P9CzmUqERFFG"
   },
   "source": [
    "# Random Forest method"
   ]
  },
  {
   "cell_type": "code",
   "execution_count": 76,
   "metadata": {
    "id": "OdKTJ5bB-M_o"
   },
   "outputs": [],
   "source": [
    "regressor = RandomForestRegressor(n_estimators = 100, random_state = 0)"
   ]
  },
  {
   "cell_type": "code",
   "execution_count": 77,
   "metadata": {
    "colab": {
     "base_uri": "https://localhost:8080/"
    },
    "id": "L3h1Ir_a-WZP",
    "outputId": "692ea2b5-3ac4-4fb3-ba46-a253822713e9"
   },
   "outputs": [
    {
     "data": {
      "text/plain": [
       "RandomForestRegressor(random_state=0)"
      ]
     },
     "execution_count": 77,
     "metadata": {},
     "output_type": "execute_result"
    }
   ],
   "source": [
    "regressor.fit(X, y) "
   ]
  },
  {
   "cell_type": "code",
   "execution_count": 78,
   "metadata": {
    "id": "ufYlkBuNBL_H"
   },
   "outputs": [],
   "source": [
    "from sklearn.preprocessing import StandardScaler\n",
    "\n",
    "sc = StandardScaler()\n",
    "X_train = sc.fit_transform(X_train)\n",
    "X_test = sc.transform(X_test)"
   ]
  },
  {
   "cell_type": "code",
   "execution_count": 79,
   "metadata": {
    "id": "RsdsWn0ZBLz-"
   },
   "outputs": [],
   "source": [
    "from sklearn.ensemble import RandomForestRegressor\n",
    "\n",
    "regressor = RandomForestRegressor(n_estimators=20, random_state=0)\n",
    "regressor.fit(X_train, y_train)\n",
    "y_pred = regressor.predict(X_test)"
   ]
  },
  {
   "cell_type": "code",
   "execution_count": 80,
   "metadata": {
    "colab": {
     "base_uri": "https://localhost:8080/"
    },
    "id": "pslWgJlFBbNZ",
    "outputId": "a6f4535a-a82b-4536-d3dc-d36bc8e7aaae"
   },
   "outputs": [
    {
     "name": "stdout",
     "output_type": "stream",
     "text": [
      "Mean Absolute Error: 0.23098055111288682\n",
      "Mean Squared Error: 0.12492790154922033\n",
      "Root Mean Squared Error: 0.35345141327942137\n"
     ]
    }
   ],
   "source": [
    "from sklearn import metrics\n",
    "\n",
    "print('Mean Absolute Error:', metrics.mean_absolute_error(y_test, y_pred))\n",
    "print('Mean Squared Error:', metrics.mean_squared_error(y_test, y_pred))\n",
    "print('Root Mean Squared Error:', np.sqrt(metrics.mean_squared_error(y_test, y_pred)))"
   ]
  },
  {
   "cell_type": "code",
   "execution_count": 81,
   "metadata": {
    "colab": {
     "base_uri": "https://localhost:8080/"
    },
    "id": "ghZqIVwlCDjz",
    "outputId": "9af5d973-eadd-4eb9-c281-7abc06ac3ddd"
   },
   "outputs": [
    {
     "name": "stdout",
     "output_type": "stream",
     "text": [
      "random forest  model, R2 test score is : 0.9410297346327937\n"
     ]
    }
   ],
   "source": [
    "#test_set_r2 = r2_score(y_train, y_pred_train)\n",
    "#print('xgboost model, R2 train score is : {}'.format(test_set_r2))\n",
    "test_set_r2 = r2_score(y_test, y_pred)\n",
    "print('random forest  model, R2 test score is : {}'.format(test_set_r2))"
   ]
  },
  {
   "cell_type": "markdown",
   "metadata": {
    "id": "l6zLEiqhRVqE"
   },
   "source": [
    "Finally we have the winner. It is Random Forest method that gave us the best accuracy score of 94%. Hence we can use random forest learning technique to predict the demand of bike rented per hour with respect to different features"
   ]
  },
  {
   "cell_type": "markdown",
   "metadata": {
    "id": "MK_rdXETIKS4"
   },
   "source": [
    "\n",
    "\n",
    "**Identify the most important features of the model for management.**\n",
    "\n",
    "> #### Task:\n",
    "- **Visualize the top 20 features and their feature importance.**\n"
   ]
  },
  {
   "cell_type": "markdown",
   "metadata": {
    "id": "UFogmgYZIKTE"
   },
   "source": [
    "> #### Task:\n",
    "- **Submit the predictions on the test dataset using the optimized model** <br/>\n",
    "    For each record in the test set (`test.csv`), predict the value of the `demand` variable. Submit a CSV file with a header row and one row per test entry.\n",
    "    \n",
    "The file (`submissions.csv`) should have exactly 2 columns:\n",
    "   - **id**\n",
    "   - **demand**"
   ]
  },
  {
   "cell_type": "code",
   "execution_count": 91,
   "metadata": {},
   "outputs": [],
   "source": [
    "submission=y_pred"
   ]
  },
  {
   "cell_type": "code",
   "execution_count": 104,
   "metadata": {},
   "outputs": [
    {
     "data": {
      "text/html": [
       "<div>\n",
       "<style scoped>\n",
       "    .dataframe tbody tr th:only-of-type {\n",
       "        vertical-align: middle;\n",
       "    }\n",
       "\n",
       "    .dataframe tbody tr th {\n",
       "        vertical-align: top;\n",
       "    }\n",
       "\n",
       "    .dataframe thead th {\n",
       "        text-align: right;\n",
       "    }\n",
       "</style>\n",
       "<table border=\"1\" class=\"dataframe\">\n",
       "  <thead>\n",
       "    <tr style=\"text-align: right;\">\n",
       "      <th></th>\n",
       "      <th>0</th>\n",
       "    </tr>\n",
       "  </thead>\n",
       "  <tbody>\n",
       "    <tr>\n",
       "      <th>0</th>\n",
       "      <td>4.119733</td>\n",
       "    </tr>\n",
       "    <tr>\n",
       "      <th>1</th>\n",
       "      <td>1.384736</td>\n",
       "    </tr>\n",
       "    <tr>\n",
       "      <th>2</th>\n",
       "      <td>5.848238</td>\n",
       "    </tr>\n",
       "    <tr>\n",
       "      <th>3</th>\n",
       "      <td>0.765745</td>\n",
       "    </tr>\n",
       "    <tr>\n",
       "      <th>4</th>\n",
       "      <td>5.902047</td>\n",
       "    </tr>\n",
       "    <tr>\n",
       "      <th>...</th>\n",
       "      <td>...</td>\n",
       "    </tr>\n",
       "    <tr>\n",
       "      <th>1725</th>\n",
       "      <td>4.035346</td>\n",
       "    </tr>\n",
       "    <tr>\n",
       "      <th>1726</th>\n",
       "      <td>3.745663</td>\n",
       "    </tr>\n",
       "    <tr>\n",
       "      <th>1727</th>\n",
       "      <td>6.090204</td>\n",
       "    </tr>\n",
       "    <tr>\n",
       "      <th>1728</th>\n",
       "      <td>5.653151</td>\n",
       "    </tr>\n",
       "    <tr>\n",
       "      <th>1729</th>\n",
       "      <td>1.107906</td>\n",
       "    </tr>\n",
       "  </tbody>\n",
       "</table>\n",
       "<p>1730 rows × 1 columns</p>\n",
       "</div>"
      ],
      "text/plain": [
       "             0\n",
       "0     4.119733\n",
       "1     1.384736\n",
       "2     5.848238\n",
       "3     0.765745\n",
       "4     5.902047\n",
       "...        ...\n",
       "1725  4.035346\n",
       "1726  3.745663\n",
       "1727  6.090204\n",
       "1728  5.653151\n",
       "1729  1.107906\n",
       "\n",
       "[1730 rows x 1 columns]"
      ]
     },
     "execution_count": 104,
     "metadata": {},
     "output_type": "execute_result"
    }
   ],
   "source": [
    "submission_df=pd.DataFrame(submission)\n",
    "submission_df"
   ]
  },
  {
   "cell_type": "code",
   "execution_count": 96,
   "metadata": {},
   "outputs": [
    {
     "data": {
      "text/plain": [
       "0        8709\n",
       "1        8710\n",
       "2        8712\n",
       "3        8713\n",
       "4        8714\n",
       "        ...  \n",
       "1725    10810\n",
       "1726    10811\n",
       "1727    10812\n",
       "1728    10813\n",
       "1729    10815\n",
       "Name: id, Length: 1730, dtype: int64"
      ]
     },
     "execution_count": 96,
     "metadata": {},
     "output_type": "execute_result"
    }
   ],
   "source": [
    "id=test_data.id[0:1730]\n",
    "id"
   ]
  },
  {
   "cell_type": "code",
   "execution_count": 97,
   "metadata": {},
   "outputs": [],
   "source": [
    "submission_df['id']=id"
   ]
  },
  {
   "cell_type": "code",
   "execution_count": 110,
   "metadata": {
    "id": "nBRVPrYbIKTQ"
   },
   "outputs": [
    {
     "data": {
      "text/html": [
       "<div>\n",
       "<style scoped>\n",
       "    .dataframe tbody tr th:only-of-type {\n",
       "        vertical-align: middle;\n",
       "    }\n",
       "\n",
       "    .dataframe tbody tr th {\n",
       "        vertical-align: top;\n",
       "    }\n",
       "\n",
       "    .dataframe thead th {\n",
       "        text-align: right;\n",
       "    }\n",
       "</style>\n",
       "<table border=\"1\" class=\"dataframe\">\n",
       "  <thead>\n",
       "    <tr style=\"text-align: right;\">\n",
       "      <th></th>\n",
       "      <th>prediction</th>\n",
       "    </tr>\n",
       "  </thead>\n",
       "  <tbody>\n",
       "    <tr>\n",
       "      <th>0</th>\n",
       "      <td>4.119733</td>\n",
       "    </tr>\n",
       "    <tr>\n",
       "      <th>1</th>\n",
       "      <td>1.384736</td>\n",
       "    </tr>\n",
       "    <tr>\n",
       "      <th>2</th>\n",
       "      <td>5.848238</td>\n",
       "    </tr>\n",
       "    <tr>\n",
       "      <th>3</th>\n",
       "      <td>0.765745</td>\n",
       "    </tr>\n",
       "    <tr>\n",
       "      <th>4</th>\n",
       "      <td>5.902047</td>\n",
       "    </tr>\n",
       "    <tr>\n",
       "      <th>...</th>\n",
       "      <td>...</td>\n",
       "    </tr>\n",
       "    <tr>\n",
       "      <th>1725</th>\n",
       "      <td>4.035346</td>\n",
       "    </tr>\n",
       "    <tr>\n",
       "      <th>1726</th>\n",
       "      <td>3.745663</td>\n",
       "    </tr>\n",
       "    <tr>\n",
       "      <th>1727</th>\n",
       "      <td>6.090204</td>\n",
       "    </tr>\n",
       "    <tr>\n",
       "      <th>1728</th>\n",
       "      <td>5.653151</td>\n",
       "    </tr>\n",
       "    <tr>\n",
       "      <th>1729</th>\n",
       "      <td>1.107906</td>\n",
       "    </tr>\n",
       "  </tbody>\n",
       "</table>\n",
       "<p>1730 rows × 1 columns</p>\n",
       "</div>"
      ],
      "text/plain": [
       "      prediction\n",
       "0       4.119733\n",
       "1       1.384736\n",
       "2       5.848238\n",
       "3       0.765745\n",
       "4       5.902047\n",
       "...          ...\n",
       "1725    4.035346\n",
       "1726    3.745663\n",
       "1727    6.090204\n",
       "1728    5.653151\n",
       "1729    1.107906\n",
       "\n",
       "[1730 rows x 1 columns]"
      ]
     },
     "execution_count": 110,
     "metadata": {},
     "output_type": "execute_result"
    }
   ],
   "source": [
    "#Submission\n",
    "submission_df.to_csv('submissions.csv',index=False)\n",
    "\n",
    "submission_df"
   ]
  },
  {
   "cell_type": "code",
   "execution_count": 112,
   "metadata": {},
   "outputs": [
    {
     "data": {
      "text/html": [
       "<div>\n",
       "<style scoped>\n",
       "    .dataframe tbody tr th:only-of-type {\n",
       "        vertical-align: middle;\n",
       "    }\n",
       "\n",
       "    .dataframe tbody tr th {\n",
       "        vertical-align: top;\n",
       "    }\n",
       "\n",
       "    .dataframe thead th {\n",
       "        text-align: right;\n",
       "    }\n",
       "</style>\n",
       "<table border=\"1\" class=\"dataframe\">\n",
       "  <thead>\n",
       "    <tr style=\"text-align: right;\">\n",
       "      <th></th>\n",
       "      <th>prediction</th>\n",
       "      <th>id</th>\n",
       "    </tr>\n",
       "  </thead>\n",
       "  <tbody>\n",
       "    <tr>\n",
       "      <th>0</th>\n",
       "      <td>4.119733</td>\n",
       "      <td>8709</td>\n",
       "    </tr>\n",
       "    <tr>\n",
       "      <th>1</th>\n",
       "      <td>1.384736</td>\n",
       "      <td>8710</td>\n",
       "    </tr>\n",
       "    <tr>\n",
       "      <th>2</th>\n",
       "      <td>5.848238</td>\n",
       "      <td>8712</td>\n",
       "    </tr>\n",
       "    <tr>\n",
       "      <th>3</th>\n",
       "      <td>0.765745</td>\n",
       "      <td>8713</td>\n",
       "    </tr>\n",
       "    <tr>\n",
       "      <th>4</th>\n",
       "      <td>5.902047</td>\n",
       "      <td>8714</td>\n",
       "    </tr>\n",
       "    <tr>\n",
       "      <th>...</th>\n",
       "      <td>...</td>\n",
       "      <td>...</td>\n",
       "    </tr>\n",
       "    <tr>\n",
       "      <th>1725</th>\n",
       "      <td>4.035346</td>\n",
       "      <td>10810</td>\n",
       "    </tr>\n",
       "    <tr>\n",
       "      <th>1726</th>\n",
       "      <td>3.745663</td>\n",
       "      <td>10811</td>\n",
       "    </tr>\n",
       "    <tr>\n",
       "      <th>1727</th>\n",
       "      <td>6.090204</td>\n",
       "      <td>10812</td>\n",
       "    </tr>\n",
       "    <tr>\n",
       "      <th>1728</th>\n",
       "      <td>5.653151</td>\n",
       "      <td>10813</td>\n",
       "    </tr>\n",
       "    <tr>\n",
       "      <th>1729</th>\n",
       "      <td>1.107906</td>\n",
       "      <td>10815</td>\n",
       "    </tr>\n",
       "  </tbody>\n",
       "</table>\n",
       "<p>1730 rows × 2 columns</p>\n",
       "</div>"
      ],
      "text/plain": [
       "      prediction     id\n",
       "0       4.119733   8709\n",
       "1       1.384736   8710\n",
       "2       5.848238   8712\n",
       "3       0.765745   8713\n",
       "4       5.902047   8714\n",
       "...          ...    ...\n",
       "1725    4.035346  10810\n",
       "1726    3.745663  10811\n",
       "1727    6.090204  10812\n",
       "1728    5.653151  10813\n",
       "1729    1.107906  10815\n",
       "\n",
       "[1730 rows x 2 columns]"
      ]
     },
     "execution_count": 112,
     "metadata": {},
     "output_type": "execute_result"
    }
   ],
   "source": [
    "submission_df['id']=id\n",
    "submission_df"
   ]
  },
  {
   "cell_type": "markdown",
   "metadata": {
    "id": "H_pB8zTcIKTW"
   },
   "source": [
    "---"
   ]
  },
  {
   "cell_type": "code",
   "execution_count": 167,
   "metadata": {},
   "outputs": [
    {
     "name": "stdout",
     "output_type": "stream",
     "text": [
      "Collecting package metadata (current_repodata.json): done\n",
      "Solving environment: done\n",
      "\n",
      "\n",
      "==> WARNING: A newer version of conda exists. <==\n",
      "  current version: 4.10.1\n",
      "  latest version: 4.10.3\n",
      "\n",
      "Please update conda by running\n",
      "\n",
      "    $ conda update -n base -c defaults conda\n",
      "\n",
      "\n",
      "\n",
      "## Package Plan ##\n",
      "\n",
      "  environment location: /Users/musubimanagement/opt/anaconda3\n",
      "\n",
      "  added / updated specs:\n",
      "    - xgboost\n",
      "\n",
      "\n",
      "The following packages will be downloaded:\n",
      "\n",
      "    package                    |            build\n",
      "    ---------------------------|-----------------\n",
      "    _py-xgboost-mutex-2.0      |            cpu_0           8 KB  conda-forge\n",
      "    conda-4.10.3               |   py38h50d1736_2         3.1 MB  conda-forge\n",
      "    libxgboost-1.3.3           |       h23ab428_0         1.2 MB\n",
      "    py-xgboost-1.3.3           |   py38hecd8cb5_0         136 KB\n",
      "    python_abi-3.8             |           2_cp38           4 KB  conda-forge\n",
      "    xgboost-1.3.3              |   py38hecd8cb5_0          23 KB\n",
      "    ------------------------------------------------------------\n",
      "                                           Total:         4.4 MB\n",
      "\n",
      "The following NEW packages will be INSTALLED:\n",
      "\n",
      "  _py-xgboost-mutex  conda-forge/osx-64::_py-xgboost-mutex-2.0-cpu_0\n",
      "  libxgboost         pkgs/main/osx-64::libxgboost-1.3.3-h23ab428_0\n",
      "  py-xgboost         pkgs/main/osx-64::py-xgboost-1.3.3-py38hecd8cb5_0\n",
      "  python_abi         conda-forge/osx-64::python_abi-3.8-2_cp38\n",
      "  xgboost            pkgs/main/osx-64::xgboost-1.3.3-py38hecd8cb5_0\n",
      "\n",
      "The following packages will be UPDATED:\n",
      "\n",
      "  conda              pkgs/main::conda-4.10.1-py38hecd8cb5_1 --> conda-forge::conda-4.10.3-py38h50d1736_2\n",
      "\n",
      "\n",
      "\n",
      "Downloading and Extracting Packages\n",
      "_py-xgboost-mutex-2. | 8 KB      | ##################################### | 100% \n",
      "python_abi-3.8       | 4 KB      | ##################################### | 100% \n",
      "xgboost-1.3.3        | 23 KB     | ##################################### | 100% \n",
      "conda-4.10.3         | 3.1 MB    | ##################################### | 100% \n",
      "libxgboost-1.3.3     | 1.2 MB    | ##################################### | 100% \n",
      "py-xgboost-1.3.3     | 136 KB    | ##################################### | 100% \n",
      "Preparing transaction: done\n",
      "Verifying transaction: done\n",
      "Executing transaction: done\n",
      "\n",
      "Note: you may need to restart the kernel to use updated packages.\n"
     ]
    }
   ],
   "source": [
    "conda install -c conda-forge xgboost"
   ]
  },
  {
   "cell_type": "code",
   "execution_count": null,
   "metadata": {},
   "outputs": [],
   "source": []
  }
 ],
 "metadata": {
  "colab": {
   "collapsed_sections": [],
   "name": "Questions.ipynb",
   "provenance": []
  },
  "interpreter": {
   "hash": "31f2aee4e71d21fbe5cf8b01ff0e069b9275f58929596ceb00d14d90e3e16cd6"
  },
  "kernelspec": {
   "display_name": "Python 3",
   "language": "python",
   "name": "python3"
  },
  "language_info": {
   "codemirror_mode": {
    "name": "ipython",
    "version": 3
   },
   "file_extension": ".py",
   "mimetype": "text/x-python",
   "name": "python",
   "nbconvert_exporter": "python",
   "pygments_lexer": "ipython3",
   "version": "3.8.8"
  },
  "toc": {
   "base_numbering": 1,
   "nav_menu": {},
   "number_sections": true,
   "sideBar": true,
   "skip_h1_title": false,
   "title_cell": "Table of Contents",
   "title_sidebar": "Contents",
   "toc_cell": false,
   "toc_position": {},
   "toc_section_display": true,
   "toc_window_display": false
  }
 },
 "nbformat": 4,
 "nbformat_minor": 1
}
